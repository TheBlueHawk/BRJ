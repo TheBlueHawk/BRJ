{
 "cells": [
  {
   "cell_type": "markdown",
   "metadata": {},
   "source": [
    "# Week 4 - RDD and Difference-in-Differences\n",
    "\n",
    "This notebook implements different idntification strategies with the foal to identify the causal effect of fiscal rules on incentives to accumulate debt.\n",
    "\n",
    "To investigate this we exploit a fiscal reform from 2001 in Italy which relaxed fiscal restraints for municipalities with less than 5000, following the analysis by [Grembi et al. (2016)](https://www.aeaweb.org/articles?id=10.1257/app.20150076#:~:text=Fiscal%20rules%20are%20laws%20aimed,them%20to%20discipline%20local%20governments.&text=We%20exploit%20the%20before%2Fafter,increases%20deficits%20and%20lowers%20taxes.)."
   ]
  },
  {
   "cell_type": "code",
   "execution_count": 1,
   "metadata": {},
   "outputs": [],
   "source": [
    "# Common imports\n",
    "import numpy as np\n",
    "import os\n",
    "import pandas as pd\n",
    "\n",
    "# To plot pretty figures\n",
    "%matplotlib inline\n",
    "%config InlineBackend.figure_format = 'retina'\n",
    "import matplotlib as mpl\n",
    "import matplotlib.pyplot as plt\n",
    "#%matplotlib notebook\n",
    "mpl.rc('axes', labelsize=14)\n",
    "mpl.rc('xtick', labelsize=12)\n",
    "mpl.rc('ytick', labelsize=12)\n",
    "\n",
    "import seaborn as sns\n",
    "sns.set_theme()\n",
    "import warnings\n",
    "warnings.filterwarnings('ignore', category=FutureWarning)\n",
    "warnings.filterwarnings('ignore', category=DeprecationWarning)\n",
    "warnings.filterwarnings = lambda *a, **kw: None\n",
    "\n",
    "# to make this notebook's output identical at every run\n",
    "np.random.seed(42)"
   ]
  },
  {
   "cell_type": "markdown",
   "metadata": {},
   "source": [
    "## Explore the Data"
   ]
  },
  {
   "cell_type": "code",
   "execution_count": 2,
   "metadata": {},
   "outputs": [],
   "source": [
    "df = pd.read_stata('data/week04.dta')\n",
    "df_labels = pd.read_stata('data/week04.dta', iterator=True).variable_labels()"
   ]
  },
  {
   "cell_type": "code",
   "execution_count": 3,
   "metadata": {},
   "outputs": [
    {
     "data": {
      "text/html": [
       "<div>\n",
       "<style scoped>\n",
       "    .dataframe tbody tr th:only-of-type {\n",
       "        vertical-align: middle;\n",
       "    }\n",
       "\n",
       "    .dataframe tbody tr th {\n",
       "        vertical-align: top;\n",
       "    }\n",
       "\n",
       "    .dataframe thead th {\n",
       "        text-align: right;\n",
       "    }\n",
       "</style>\n",
       "<table border=\"1\" class=\"dataframe\">\n",
       "  <thead>\n",
       "    <tr style=\"text-align: right;\">\n",
       "      <th></th>\n",
       "      <th>anno</th>\n",
       "      <th>popcens</th>\n",
       "      <th>giovani</th>\n",
       "      <th>entratetotgen_pc</th>\n",
       "      <th>trafgrants_pc</th>\n",
       "      <th>spesecor_pc</th>\n",
       "      <th>spesecocap_pc</th>\n",
       "      <th>spesetotgen_pc</th>\n",
       "      <th>aliquota_ordinaria</th>\n",
       "      <th>imposte</th>\n",
       "      <th>...</th>\n",
       "      <th>postper2002_int2</th>\n",
       "      <th>postper2002_int3</th>\n",
       "      <th>postper2003</th>\n",
       "      <th>postper2003_int1</th>\n",
       "      <th>postper2003_int2</th>\n",
       "      <th>postper2003_int3</th>\n",
       "      <th>postper2004</th>\n",
       "      <th>postper2004_int1</th>\n",
       "      <th>postper2004_int2</th>\n",
       "      <th>postper2004_int3</th>\n",
       "    </tr>\n",
       "  </thead>\n",
       "  <tbody>\n",
       "    <tr>\n",
       "      <th>0</th>\n",
       "      <td>1999.0</td>\n",
       "      <td>3967.0</td>\n",
       "      <td>0.143240</td>\n",
       "      <td>1294.426880</td>\n",
       "      <td>288.899109</td>\n",
       "      <td>595.293518</td>\n",
       "      <td>679.409302</td>\n",
       "      <td>1324.374756</td>\n",
       "      <td>0.65</td>\n",
       "      <td>88.360217</td>\n",
       "      <td>...</td>\n",
       "      <td>0.0</td>\n",
       "      <td>0.0</td>\n",
       "      <td>0.0</td>\n",
       "      <td>0.0</td>\n",
       "      <td>0.0</td>\n",
       "      <td>0.0</td>\n",
       "      <td>0.0</td>\n",
       "      <td>0.0</td>\n",
       "      <td>0.0</td>\n",
       "      <td>0.0</td>\n",
       "    </tr>\n",
       "    <tr>\n",
       "      <th>1</th>\n",
       "      <td>2000.0</td>\n",
       "      <td>3967.0</td>\n",
       "      <td>0.144753</td>\n",
       "      <td>1374.037354</td>\n",
       "      <td>261.448029</td>\n",
       "      <td>587.072388</td>\n",
       "      <td>744.917542</td>\n",
       "      <td>1376.292114</td>\n",
       "      <td>0.65</td>\n",
       "      <td>121.037560</td>\n",
       "      <td>...</td>\n",
       "      <td>0.0</td>\n",
       "      <td>0.0</td>\n",
       "      <td>0.0</td>\n",
       "      <td>0.0</td>\n",
       "      <td>0.0</td>\n",
       "      <td>0.0</td>\n",
       "      <td>0.0</td>\n",
       "      <td>0.0</td>\n",
       "      <td>0.0</td>\n",
       "      <td>0.0</td>\n",
       "    </tr>\n",
       "    <tr>\n",
       "      <th>2</th>\n",
       "      <td>2001.0</td>\n",
       "      <td>4178.0</td>\n",
       "      <td>0.146581</td>\n",
       "      <td>1501.324585</td>\n",
       "      <td>322.154572</td>\n",
       "      <td>670.274170</td>\n",
       "      <td>788.040039</td>\n",
       "      <td>1499.372192</td>\n",
       "      <td>0.65</td>\n",
       "      <td>132.679365</td>\n",
       "      <td>...</td>\n",
       "      <td>0.0</td>\n",
       "      <td>0.0</td>\n",
       "      <td>0.0</td>\n",
       "      <td>0.0</td>\n",
       "      <td>0.0</td>\n",
       "      <td>0.0</td>\n",
       "      <td>0.0</td>\n",
       "      <td>0.0</td>\n",
       "      <td>0.0</td>\n",
       "      <td>0.0</td>\n",
       "    </tr>\n",
       "    <tr>\n",
       "      <th>3</th>\n",
       "      <td>2002.0</td>\n",
       "      <td>4178.0</td>\n",
       "      <td>0.147371</td>\n",
       "      <td>1194.384766</td>\n",
       "      <td>316.933960</td>\n",
       "      <td>694.407593</td>\n",
       "      <td>464.735138</td>\n",
       "      <td>1195.435181</td>\n",
       "      <td>0.70</td>\n",
       "      <td>195.241282</td>\n",
       "      <td>...</td>\n",
       "      <td>675684.0</td>\n",
       "      <td>-555412224.0</td>\n",
       "      <td>0.0</td>\n",
       "      <td>0.0</td>\n",
       "      <td>0.0</td>\n",
       "      <td>0.0</td>\n",
       "      <td>0.0</td>\n",
       "      <td>0.0</td>\n",
       "      <td>0.0</td>\n",
       "      <td>0.0</td>\n",
       "    </tr>\n",
       "    <tr>\n",
       "      <th>4</th>\n",
       "      <td>2003.0</td>\n",
       "      <td>4178.0</td>\n",
       "      <td>0.146598</td>\n",
       "      <td>1493.122559</td>\n",
       "      <td>301.837708</td>\n",
       "      <td>730.846252</td>\n",
       "      <td>719.933350</td>\n",
       "      <td>1488.273193</td>\n",
       "      <td>0.70</td>\n",
       "      <td>241.505226</td>\n",
       "      <td>...</td>\n",
       "      <td>0.0</td>\n",
       "      <td>0.0</td>\n",
       "      <td>1.0</td>\n",
       "      <td>-822.0</td>\n",
       "      <td>675684.0</td>\n",
       "      <td>-555412224.0</td>\n",
       "      <td>0.0</td>\n",
       "      <td>0.0</td>\n",
       "      <td>0.0</td>\n",
       "      <td>0.0</td>\n",
       "    </tr>\n",
       "  </tbody>\n",
       "</table>\n",
       "<p>5 rows × 95 columns</p>\n",
       "</div>"
      ],
      "text/plain": [
       "     anno  popcens   giovani  entratetotgen_pc  trafgrants_pc  spesecor_pc  \\\n",
       "0  1999.0   3967.0  0.143240       1294.426880     288.899109   595.293518   \n",
       "1  2000.0   3967.0  0.144753       1374.037354     261.448029   587.072388   \n",
       "2  2001.0   4178.0  0.146581       1501.324585     322.154572   670.274170   \n",
       "3  2002.0   4178.0  0.147371       1194.384766     316.933960   694.407593   \n",
       "4  2003.0   4178.0  0.146598       1493.122559     301.837708   730.846252   \n",
       "\n",
       "   spesecocap_pc  spesetotgen_pc  aliquota_ordinaria     imposte  ...  \\\n",
       "0     679.409302     1324.374756                0.65   88.360217  ...   \n",
       "1     744.917542     1376.292114                0.65  121.037560  ...   \n",
       "2     788.040039     1499.372192                0.65  132.679365  ...   \n",
       "3     464.735138     1195.435181                0.70  195.241282  ...   \n",
       "4     719.933350     1488.273193                0.70  241.505226  ...   \n",
       "\n",
       "   postper2002_int2  postper2002_int3  postper2003  postper2003_int1  \\\n",
       "0               0.0               0.0          0.0               0.0   \n",
       "1               0.0               0.0          0.0               0.0   \n",
       "2               0.0               0.0          0.0               0.0   \n",
       "3          675684.0      -555412224.0          0.0               0.0   \n",
       "4               0.0               0.0          1.0            -822.0   \n",
       "\n",
       "   postper2003_int2  postper2003_int3  postper2004  postper2004_int1  \\\n",
       "0               0.0               0.0          0.0               0.0   \n",
       "1               0.0               0.0          0.0               0.0   \n",
       "2               0.0               0.0          0.0               0.0   \n",
       "3               0.0               0.0          0.0               0.0   \n",
       "4          675684.0      -555412224.0          0.0               0.0   \n",
       "\n",
       "   postper2004_int2  postper2004_int3  \n",
       "0               0.0               0.0  \n",
       "1               0.0               0.0  \n",
       "2               0.0               0.0  \n",
       "3               0.0               0.0  \n",
       "4               0.0               0.0  \n",
       "\n",
       "[5 rows x 95 columns]"
      ]
     },
     "execution_count": 3,
     "metadata": {},
     "output_type": "execute_result"
    }
   ],
   "source": [
    "df.head()"
   ]
  },
  {
   "cell_type": "code",
   "execution_count": 4,
   "metadata": {
    "scrolled": true
   },
   "outputs": [
    {
     "data": {
      "text/plain": [
       "{'anno': 'year',\n",
       " 'popcens': 'census population',\n",
       " 'giovani': 'youngsters',\n",
       " 'entratetotgen_pc': '',\n",
       " 'trafgrants_pc': '',\n",
       " 'spesecor_pc': 'current outlays ',\n",
       " 'spesecocap_pc': 'capital outlays',\n",
       " 'spesetotgen_pc': '',\n",
       " 'aliquota_ordinaria': 'real estate tax',\n",
       " 'imposte': 'taxes',\n",
       " 'tasse': 'fees and tariffs',\n",
       " 'state_transfers': '',\n",
       " 'aliquota_irpef': 'income tax surcharge ',\n",
       " 'expend_interest_pc': 'debt service',\n",
       " 'other_transfers': '',\n",
       " 'entrate_altre_pc': 'other revenues',\n",
       " 'saldofinanziario_pc': 'fiscal gap',\n",
       " 'deficit_pc': 'deficit',\n",
       " 'income': '',\n",
       " 'area': 'central trasnfers',\n",
       " 'number_parties': '',\n",
       " 'college': '',\n",
       " 'years_school': '',\n",
       " 'term_limit': '',\n",
       " 'gender': '',\n",
       " 'age': '',\n",
       " 'exp': '',\n",
       " 'preexp': '',\n",
       " 'centerright': '',\n",
       " 'sealevel2': '',\n",
       " 'north_est': '',\n",
       " 'north_west': '',\n",
       " 'south': '',\n",
       " 'center': '',\n",
       " 'mayoraliq': '',\n",
       " 'youngvoters': '',\n",
       " 'expcoref': '',\n",
       " 'north': '',\n",
       " 'id_comune': '',\n",
       " 'id_codente': '',\n",
       " 'treatment_t': '',\n",
       " 'treatment_t_int1': '',\n",
       " 'treatment_t_int2': '',\n",
       " 'treatment_t_int3': '',\n",
       " 'treatment_t_int4': '',\n",
       " 'treatment_t_int5': '',\n",
       " 'postper': '',\n",
       " 'postper_int1': '',\n",
       " 'postper_int2': '',\n",
       " 'postper_int3': '',\n",
       " 'postper_int4': '',\n",
       " 'postper_int5': '',\n",
       " 'pop5000': '',\n",
       " 't5000': '',\n",
       " 't5000_int1': '',\n",
       " 't5000_int4': '',\n",
       " 't5000_int5': '',\n",
       " 'pop5000_4': '',\n",
       " 'pop5000_5': '',\n",
       " 'pop5000_2': '',\n",
       " 't5000_int2': '',\n",
       " 'pop5000_3': '',\n",
       " 't5000_int3': '',\n",
       " 'treatment2001': '',\n",
       " 'treatment2001_int1': '',\n",
       " 'treatment2001_int2': '',\n",
       " 'treatment2001_int3': '',\n",
       " 'treatment2002': '',\n",
       " 'treatment2002_int1': '',\n",
       " 'treatment2002_int2': '',\n",
       " 'treatment2002_int3': '',\n",
       " 'treatment2003': '',\n",
       " 'treatment2003_int1': '',\n",
       " 'treatment2003_int2': '',\n",
       " 'treatment2003_int3': '',\n",
       " 'treatment2004': '',\n",
       " 'treatment2004_int1': '',\n",
       " 'treatment2004_int2': '',\n",
       " 'treatment2004_int3': '',\n",
       " 'postper2001': '',\n",
       " 'postper2001_int1': '',\n",
       " 'postper2001_int2': '',\n",
       " 'postper2001_int3': '',\n",
       " 'postper2002': '',\n",
       " 'postper2002_int1': '',\n",
       " 'postper2002_int2': '',\n",
       " 'postper2002_int3': '',\n",
       " 'postper2003': '',\n",
       " 'postper2003_int1': '',\n",
       " 'postper2003_int2': '',\n",
       " 'postper2003_int3': '',\n",
       " 'postper2004': '',\n",
       " 'postper2004_int1': '',\n",
       " 'postper2004_int2': '',\n",
       " 'postper2004_int3': ''}"
      ]
     },
     "execution_count": 4,
     "metadata": {},
     "output_type": "execute_result"
    }
   ],
   "source": [
    "df_labels"
   ]
  },
  {
   "cell_type": "markdown",
   "metadata": {},
   "source": [
    "We create 3 variables:\n",
    "\n",
    "- $t5000$: dummy equal to 1 if the municipality has more than 5000 inhabitants\n",
    "- $pop5000$: population centered at 5000\n",
    "- $post$: dummy equal to 1 if the observation is after 2001"
   ]
  },
  {
   "cell_type": "code",
   "execution_count": 5,
   "metadata": {},
   "outputs": [],
   "source": [
    "df['t5000'] = df['popcens']>5000\n",
    "df['t5000'] = df['t5000'].astype(int)\n",
    "\n",
    "df['pop5000'] = df['popcens'] - 5000\n",
    "\n",
    "df['post'] = df['anno']>2000\n",
    "df['post'] = df['post'].astype(int)\n"
   ]
  },
  {
   "cell_type": "markdown",
   "metadata": {},
   "source": [
    "The dataset is a balanced panel of 1050 municipalities from 1999 to 2004. The main outcomes of interest we will use are the deficit (*deficit_pc*) and taxes (*imposte*) and we want to investigate the effect of having less than 5000 inhabitants (*t5000* is a dummy equal to 1 if the population is more than 5000) in the municipalities after 2001."
   ]
  },
  {
   "cell_type": "markdown",
   "metadata": {},
   "source": [
    "**Which identification strategy would you apply in this setting?**"
   ]
  },
  {
   "cell_type": "markdown",
   "metadata": {},
   "source": [
    "## Regression Discontinuity Design"
   ]
  },
  {
   "cell_type": "markdown",
   "metadata": {},
   "source": [
    "In this first part we exploit the discontinuity in fiscal rules imposed by the reform. Namely, we investigate the difference in the outcomes of interest betweem municipalities at different sides of the cutoff **after** 2001. The regression that we are going to estimate is:\n",
    "\n",
    "\n",
    "$$y_i = \\beta_0 + \\beta_1 pop5000_i + t5000_i(\\gamma_0 + \\gamma_1 pop5000_i) + \\varepsilon_i$$"
   ]
  },
  {
   "cell_type": "code",
   "execution_count": 6,
   "metadata": {},
   "outputs": [
    {
     "name": "stdout",
     "output_type": "stream",
     "text": [
      "Mass points detected in the running variable.\n",
      "Mass points detected in the running variable.\n",
      "Call: rdrobust\n",
      "Number of Observations:                  4200\n",
      "Polynomial Order Est. (p):                  3\n",
      "Polynomial Order Bias (q):                  4\n",
      "Kernel:                            Triangular\n",
      "Bandwidth Selection:                    mserd\n",
      "Var-Cov Estimator:                        HC1\n",
      "\n",
      "                                Left      Right\n",
      "------------------------------------------------\n",
      "Number of Observations          2220       1980\n",
      "Number of Unique Obs.            458        435\n",
      "Number of Effective Obs.        1100        904\n",
      "Bandwidth Estimation           743.3      743.3\n",
      "Bandwidth Bias               992.766    992.766\n",
      "rho (h/b)                      0.749      0.749\n",
      "\n",
      "Method             Coef.     S.E.   t-stat    P>|t|       95% CI      \n",
      "-------------------------------------------------------------------------\n",
      "Conventional      -5.547   10.724   -0.517   6.050e-01  [-26.566, 15.472]\n",
      "Robust                 -        -    -0.42   6.742e-01  [-28.641, 18.524]\n",
      "\n",
      "Mass points detected in the running variable.\n",
      "Mass points detected in the running variable.\n",
      "Call: rdrobust\n",
      "Number of Observations:                  4200\n",
      "Polynomial Order Est. (p):                  3\n",
      "Polynomial Order Bias (q):                  4\n",
      "Kernel:                            Triangular\n",
      "Bandwidth Selection:                    mserd\n",
      "Var-Cov Estimator:                        HC1\n",
      "\n",
      "                                Left      Right\n",
      "------------------------------------------------\n",
      "Number of Observations          2220       1980\n",
      "Number of Unique Obs.            458        435\n",
      "Number of Effective Obs.         864        720\n",
      "Bandwidth Estimation         602.834    602.834\n",
      "Bandwidth Bias               792.997    792.997\n",
      "rho (h/b)                       0.76       0.76\n",
      "\n",
      "Method             Coef.     S.E.   t-stat    P>|t|       95% CI      \n",
      "-------------------------------------------------------------------------\n",
      "Conventional      69.509    23.54    2.953   3.149e-03  [23.371, 115.648]\n",
      "Robust                 -        -    2.703   6.864e-03  [19.239, 120.685]\n",
      "\n"
     ]
    }
   ],
   "source": [
    "from rdrobust import rdrobust, rdbwselect, rdplot\n",
    "\n",
    "margin = df[df['anno']>2000].pop5000\n",
    "outcome = [df[df['anno']>2000].deficit_pc, df[df['anno']>2000].imposte]\n",
    "\n",
    "for y in outcome:\n",
    "    print(rdrobust(y=y, x=margin, p=3, vce='hc1'))"
   ]
  },
  {
   "cell_type": "code",
   "execution_count": 7,
   "metadata": {},
   "outputs": [
    {
     "name": "stdout",
     "output_type": "stream",
     "text": [
      "Mass points detected in the running variable.\n"
     ]
    },
    {
     "data": {
      "image/png": "[encoded data removed]",
      "text/plain": [
       "<Figure size 640x480 with 1 Axes>"
      ]
     },
     "metadata": {
      "image/png": {
       "height": 455,
       "width": 558
      }
     },
     "output_type": "display_data"
    },
    {
     "name": "stdout",
     "output_type": "stream",
     "text": [
      "\n",
      "Call: rdplot\n",
      "Number of Observations:                  4200\n",
      "Kernel:                               Uniform\n",
      "Polynomial Order Est. (p):                  3\n",
      "\n",
      "                                Left      Right\n",
      "------------------------------------------------\n",
      "Number of Observations          2220       1980\n",
      "Number of Effective Obs         2220       1980\n",
      "Bandwith poly. fit (h)        1500.0     1998.0\n",
      "Number of bins scale               1          1\n",
      "Bins Selected                     30         30\n",
      "Average Bin Length              50.0       66.6\n",
      "Median Bin Length               50.0       66.6\n",
      "IMSE-optimal bins                5.0        5.0\n",
      "Mimicking Variance bins         59.0       60.0\n",
      "\n",
      "Relative to IMSE-optimal:\n",
      "Implied scale                    6.0        6.0\n",
      "WIMSE variance weight          0.005      0.005\n",
      "WIMSE bias weight              0.995      0.995\n"
     ]
    },
    {
     "data": {
      "text/plain": []
     },
     "execution_count": 7,
     "metadata": {},
     "output_type": "execute_result"
    }
   ],
   "source": [
    "rdplot(y=outcome[0], x=margin, nbins=30, masspoints='adjust', p=3,\n",
    "         title=\"Deficit and Fiscal Rules\", \n",
    "         y_label=\"Deficit\",\n",
    "         x_label=\" \", x_lim=[-1500, 1500])"
   ]
  },
  {
   "cell_type": "code",
   "execution_count": 8,
   "metadata": {},
   "outputs": [
    {
     "name": "stdout",
     "output_type": "stream",
     "text": [
      "Mass points detected in the running variable.\n"
     ]
    },
    {
     "data": {
      "image/png": "[encoded data removed]",
      "text/plain": [
       "<Figure size 640x480 with 1 Axes>"
      ]
     },
     "metadata": {
      "image/png": {
       "height": 455,
       "width": 566
      }
     },
     "output_type": "display_data"
    },
    {
     "name": "stdout",
     "output_type": "stream",
     "text": [
      "\n",
      "Call: rdplot\n",
      "Number of Observations:                  4200\n",
      "Kernel:                               Uniform\n",
      "Polynomial Order Est. (p):                  2\n",
      "\n",
      "                                Left      Right\n",
      "------------------------------------------------\n",
      "Number of Observations          2220       1980\n",
      "Number of Effective Obs         2220       1980\n",
      "Bandwith poly. fit (h)        1500.0     1998.0\n",
      "Number of bins scale               1          1\n",
      "Bins Selected                     30         30\n",
      "Average Bin Length              50.0       66.6\n",
      "Median Bin Length               50.0       66.6\n",
      "IMSE-optimal bins                8.0        6.0\n",
      "Mimicking Variance bins         63.0       62.0\n",
      "\n",
      "Relative to IMSE-optimal:\n",
      "Implied scale                   3.75        5.0\n",
      "WIMSE variance weight          0.019      0.008\n",
      "WIMSE bias weight              0.981      0.992\n"
     ]
    },
    {
     "data": {
      "text/plain": []
     },
     "execution_count": 8,
     "metadata": {},
     "output_type": "execute_result"
    }
   ],
   "source": [
    "rdplot(y=outcome[1], x=margin, nbins=30, p=2, masspoints='adjust',\n",
    "         title=\"Taxes and Fiscal Rules\", \n",
    "         y_label=\"Taxes\",\n",
    "         x_label=\" \", x_lim=[-1500, 1500])"
   ]
  },
  {
   "cell_type": "markdown",
   "metadata": {},
   "source": [
    "**Interpretation:**\n",
    "\n",
    "**What is the main assumption behind a causal interpretation of this effect? What are two ways to test this assumption?**"
   ]
  },
  {
   "cell_type": "markdown",
   "metadata": {},
   "source": [
    "**Assumption 1**"
   ]
  },
  {
   "cell_type": "code",
   "execution_count": null,
   "metadata": {
    "scrolled": true
   },
   "outputs": [],
   "source": []
  },
  {
   "cell_type": "markdown",
   "metadata": {},
   "source": [
    "**Assumption 2**"
   ]
  },
  {
   "cell_type": "code",
   "execution_count": null,
   "metadata": {
    "scrolled": true
   },
   "outputs": [],
   "source": [
    "for i in range(0, len(cov_names)): \n",
    "    rdplot(y=covariates[i], x=margin, nbins=30, masspoints='adjust', p=3,\n",
    "         title=\" \", \n",
    "         y_label=cov_names[i],\n",
    "         x_label=\"Running Variable\", x_lim=[-1500, 1500])"
   ]
  },
  {
   "cell_type": "markdown",
   "metadata": {},
   "source": [
    "**Are these assumptions satisfied? What other threats to a causality do you see here?**"
   ]
  },
  {
   "cell_type": "markdown",
   "metadata": {},
   "source": [
    "## Difference-in-Differences"
   ]
  },
  {
   "cell_type": "markdown",
   "metadata": {},
   "source": [
    "Now instead of exploiting the discontinuity at 5000 inhabitants we exploit date of implementation of the reform. The regression of interest is the following: \n",
    "\n",
    "$y_{i,t} = \\beta_0 + \\beta_1 t5000_{i} + \\beta_2 post_{t} + \\beta_3 t5000_i * post_t + \\varepsilon_{i,t}$\n",
    "\n",
    "or alternatively, using time and municipality fixed effects:\n",
    "\n",
    "$y_{i,t} = \\beta_0 + \\alpha_i + \\delta_t + \\beta_3 t5000_i * post_t + \\varepsilon_{i,t}$"
   ]
  },
  {
   "cell_type": "code",
   "execution_count": 9,
   "metadata": {},
   "outputs": [],
   "source": [
    "df['t5000'] = df['popcens']<=5000\n",
    "df['t5000'] = df['t5000'].astype(int)\n",
    "\n",
    "df['tpost'] = df['t5000']*df['post']"
   ]
  },
  {
   "cell_type": "code",
   "execution_count": 10,
   "metadata": {},
   "outputs": [
    {
     "data": {
      "text/html": [
       "<table class=\"simpletable\">\n",
       "<caption>PanelOLS Estimation Summary</caption>\n",
       "<tr>\n",
       "  <th>Dep. Variable:</th>       <td>deficit_pc</td>    <th>  R-squared:         </th>     <td>0.0007</td>  \n",
       "</tr>\n",
       "<tr>\n",
       "  <th>Estimator:</th>            <td>PanelOLS</td>     <th>  R-squared (Between):</th>    <td>0.0863</td>  \n",
       "</tr>\n",
       "<tr>\n",
       "  <th>No. Observations:</th>       <td>6300</td>       <th>  R-squared (Within):</th>     <td>0.0004</td>  \n",
       "</tr>\n",
       "<tr>\n",
       "  <th>Date:</th>             <td>Mon, Oct 24 2022</td> <th>  R-squared (Overall):</th>    <td>0.0191</td>  \n",
       "</tr>\n",
       "<tr>\n",
       "  <th>Time:</th>                 <td>13:12:30</td>     <th>  Log-likelihood     </th>   <td>-3.306e+04</td>\n",
       "</tr>\n",
       "<tr>\n",
       "  <th>Cov. Estimator:</th>       <td>Clustered</td>    <th>                     </th>        <td></td>     \n",
       "</tr>\n",
       "<tr>\n",
       "  <th></th>                          <td></td>         <th>  F-statistic:       </th>     <td>3.8251</td>  \n",
       "</tr>\n",
       "<tr>\n",
       "  <th>Entities:</th>               <td>1050</td>       <th>  P-value            </th>     <td>0.0505</td>  \n",
       "</tr>\n",
       "<tr>\n",
       "  <th>Avg Obs:</th>               <td>6.0000</td>      <th>  Distribution:      </th>    <td>F(1,5244)</td>\n",
       "</tr>\n",
       "<tr>\n",
       "  <th>Min Obs:</th>               <td>6.0000</td>      <th>                     </th>        <td></td>     \n",
       "</tr>\n",
       "<tr>\n",
       "  <th>Max Obs:</th>               <td>6.0000</td>      <th>  F-statistic (robust):</th>   <td>6.0061</td>  \n",
       "</tr>\n",
       "<tr>\n",
       "  <th></th>                          <td></td>         <th>  P-value            </th>     <td>0.0143</td>  \n",
       "</tr>\n",
       "<tr>\n",
       "  <th>Time periods:</th>             <td>6</td>        <th>  Distribution:      </th>    <td>F(1,5244)</td>\n",
       "</tr>\n",
       "<tr>\n",
       "  <th>Avg Obs:</th>               <td>1050.0</td>      <th>                     </th>        <td></td>     \n",
       "</tr>\n",
       "<tr>\n",
       "  <th>Min Obs:</th>               <td>1050.0</td>      <th>                     </th>        <td></td>     \n",
       "</tr>\n",
       "<tr>\n",
       "  <th>Max Obs:</th>               <td>1050.0</td>      <th>                     </th>        <td></td>     \n",
       "</tr>\n",
       "<tr>\n",
       "  <th></th>                          <td></td>         <th>                     </th>        <td></td>     \n",
       "</tr>\n",
       "</table>\n",
       "<table class=\"simpletable\">\n",
       "<caption>Parameter Estimates</caption>\n",
       "<tr>\n",
       "    <td></td>    <th>Parameter</th> <th>Std. Err.</th> <th>T-stat</th> <th>P-value</th> <th>Lower CI</th> <th>Upper CI</th>\n",
       "</tr>\n",
       "<tr>\n",
       "  <th>tpost</th>  <td>5.2786</td>    <td>2.1539</td>   <td>2.4507</td> <td>0.0143</td>   <td>1.0561</td>   <td>9.5011</td> \n",
       "</tr>\n",
       "</table><br/><br/>F-test for Poolability: 0.9659<br/>P-value: 0.7625<br/>Distribution: F(1054,5244)<br/><br/>Included effects: Entity, Time<br/>id: 0x17e57e130"
      ],
      "text/plain": [
       "                          PanelOLS Estimation Summary                           \n",
       "================================================================================\n",
       "Dep. Variable:             deficit_pc   R-squared:                        0.0007\n",
       "Estimator:                   PanelOLS   R-squared (Between):              0.0863\n",
       "No. Observations:                6300   R-squared (Within):               0.0004\n",
       "Date:                Mon, Oct 24 2022   R-squared (Overall):              0.0191\n",
       "Time:                        13:12:30   Log-likelihood                -3.306e+04\n",
       "Cov. Estimator:             Clustered                                           \n",
       "                                        F-statistic:                      3.8251\n",
       "Entities:                        1050   P-value                           0.0505\n",
       "Avg Obs:                       6.0000   Distribution:                  F(1,5244)\n",
       "Min Obs:                       6.0000                                           \n",
       "Max Obs:                       6.0000   F-statistic (robust):             6.0061\n",
       "                                        P-value                           0.0143\n",
       "Time periods:                       6   Distribution:                  F(1,5244)\n",
       "Avg Obs:                       1050.0                                           \n",
       "Min Obs:                       1050.0                                           \n",
       "Max Obs:                       1050.0                                           \n",
       "                                                                                \n",
       "                             Parameter Estimates                              \n",
       "==============================================================================\n",
       "            Parameter  Std. Err.     T-stat    P-value    Lower CI    Upper CI\n",
       "------------------------------------------------------------------------------\n",
       "tpost          5.2786     2.1539     2.4507     0.0143      1.0561      9.5011\n",
       "==============================================================================\n",
       "\n",
       "F-test for Poolability: 0.9659\n",
       "P-value: 0.7625\n",
       "Distribution: F(1054,5244)\n",
       "\n",
       "Included effects: Entity, Time\n",
       "PanelEffectsResults, id: 0x17e57e130"
      ]
     },
     "execution_count": 10,
     "metadata": {},
     "output_type": "execute_result"
    }
   ],
   "source": [
    "from linearmodels import PanelOLS\n",
    "\n",
    "df_did = df.set_index(['id_comune', 'anno'])\n",
    "did_deficit = PanelOLS(df_did.deficit_pc, df_did.tpost, entity_effects=True, time_effects=True).fit(cov_type = 'clustered', cluster_entity=True)\n",
    "did_deficit"
   ]
  },
  {
   "cell_type": "code",
   "execution_count": 11,
   "metadata": {},
   "outputs": [
    {
     "data": {
      "text/html": [
       "<table class=\"simpletable\">\n",
       "<caption>PanelOLS Estimation Summary</caption>\n",
       "<tr>\n",
       "  <th>Dep. Variable:</th>         <td>imposte</td>     <th>  R-squared:         </th>     <td>0.0036</td>  \n",
       "</tr>\n",
       "<tr>\n",
       "  <th>Estimator:</th>            <td>PanelOLS</td>     <th>  R-squared (Between):</th>    <td>-0.0250</td> \n",
       "</tr>\n",
       "<tr>\n",
       "  <th>No. Observations:</th>       <td>6300</td>       <th>  R-squared (Within):</th>     <td>-0.0450</td> \n",
       "</tr>\n",
       "<tr>\n",
       "  <th>Date:</th>             <td>Mon, Oct 24 2022</td> <th>  R-squared (Overall):</th>    <td>-0.0266</td> \n",
       "</tr>\n",
       "<tr>\n",
       "  <th>Time:</th>                 <td>13:12:40</td>     <th>  Log-likelihood     </th>   <td>-3.096e+04</td>\n",
       "</tr>\n",
       "<tr>\n",
       "  <th>Cov. Estimator:</th>       <td>Clustered</td>    <th>                     </th>        <td></td>     \n",
       "</tr>\n",
       "<tr>\n",
       "  <th></th>                          <td></td>         <th>  F-statistic:       </th>     <td>19.153</td>  \n",
       "</tr>\n",
       "<tr>\n",
       "  <th>Entities:</th>               <td>1050</td>       <th>  P-value            </th>     <td>0.0000</td>  \n",
       "</tr>\n",
       "<tr>\n",
       "  <th>Avg Obs:</th>               <td>6.0000</td>      <th>  Distribution:      </th>    <td>F(1,5244)</td>\n",
       "</tr>\n",
       "<tr>\n",
       "  <th>Min Obs:</th>               <td>6.0000</td>      <th>                     </th>        <td></td>     \n",
       "</tr>\n",
       "<tr>\n",
       "  <th>Max Obs:</th>               <td>6.0000</td>      <th>  F-statistic (robust):</th>   <td>7.3518</td>  \n",
       "</tr>\n",
       "<tr>\n",
       "  <th></th>                          <td></td>         <th>  P-value            </th>     <td>0.0067</td>  \n",
       "</tr>\n",
       "<tr>\n",
       "  <th>Time periods:</th>             <td>6</td>        <th>  Distribution:      </th>    <td>F(1,5244)</td>\n",
       "</tr>\n",
       "<tr>\n",
       "  <th>Avg Obs:</th>               <td>1050.0</td>      <th>                     </th>        <td></td>     \n",
       "</tr>\n",
       "<tr>\n",
       "  <th>Min Obs:</th>               <td>1050.0</td>      <th>                     </th>        <td></td>     \n",
       "</tr>\n",
       "<tr>\n",
       "  <th>Max Obs:</th>               <td>1050.0</td>      <th>                     </th>        <td></td>     \n",
       "</tr>\n",
       "<tr>\n",
       "  <th></th>                          <td></td>         <th>                     </th>        <td></td>     \n",
       "</tr>\n",
       "</table>\n",
       "<table class=\"simpletable\">\n",
       "<caption>Parameter Estimates</caption>\n",
       "<tr>\n",
       "    <td></td>    <th>Parameter</th> <th>Std. Err.</th> <th>T-stat</th>  <th>P-value</th> <th>Lower CI</th> <th>Upper CI</th>\n",
       "</tr>\n",
       "<tr>\n",
       "  <th>tpost</th>  <td>-8.4717</td>   <td>3.1244</td>   <td>-2.7114</td> <td>0.0067</td>   <td>-14.597</td>  <td>-2.3465</td>\n",
       "</tr>\n",
       "</table><br/><br/>F-test for Poolability: 49.430<br/>P-value: 0.0000<br/>Distribution: F(1054,5244)<br/><br/>Included effects: Entity, Time<br/>id: 0x17e5a5ca0"
      ],
      "text/plain": [
       "                          PanelOLS Estimation Summary                           \n",
       "================================================================================\n",
       "Dep. Variable:                imposte   R-squared:                        0.0036\n",
       "Estimator:                   PanelOLS   R-squared (Between):             -0.0250\n",
       "No. Observations:                6300   R-squared (Within):              -0.0450\n",
       "Date:                Mon, Oct 24 2022   R-squared (Overall):             -0.0266\n",
       "Time:                        13:12:40   Log-likelihood                -3.096e+04\n",
       "Cov. Estimator:             Clustered                                           \n",
       "                                        F-statistic:                      19.153\n",
       "Entities:                        1050   P-value                           0.0000\n",
       "Avg Obs:                       6.0000   Distribution:                  F(1,5244)\n",
       "Min Obs:                       6.0000                                           \n",
       "Max Obs:                       6.0000   F-statistic (robust):             7.3518\n",
       "                                        P-value                           0.0067\n",
       "Time periods:                       6   Distribution:                  F(1,5244)\n",
       "Avg Obs:                       1050.0                                           \n",
       "Min Obs:                       1050.0                                           \n",
       "Max Obs:                       1050.0                                           \n",
       "                                                                                \n",
       "                             Parameter Estimates                              \n",
       "==============================================================================\n",
       "            Parameter  Std. Err.     T-stat    P-value    Lower CI    Upper CI\n",
       "------------------------------------------------------------------------------\n",
       "tpost         -8.4717     3.1244    -2.7114     0.0067     -14.597     -2.3465\n",
       "==============================================================================\n",
       "\n",
       "F-test for Poolability: 49.430\n",
       "P-value: 0.0000\n",
       "Distribution: F(1054,5244)\n",
       "\n",
       "Included effects: Entity, Time\n",
       "PanelEffectsResults, id: 0x17e5a5ca0"
      ]
     },
     "execution_count": 11,
     "metadata": {},
     "output_type": "execute_result"
    }
   ],
   "source": [
    "did_taxes = PanelOLS(df_did.imposte, df_did.tpost, entity_effects=True, time_effects=True).fit(cov_type = 'clustered', cluster_entity=True)\n",
    "did_taxes"
   ]
  },
  {
   "cell_type": "markdown",
   "metadata": {},
   "source": [
    "**Interpretation:**\n",
    "\n",
    "**What is the main assumption that allows for a causal interpretation of these results? How can we test it?**"
   ]
  },
  {
   "cell_type": "code",
   "execution_count": null,
   "metadata": {},
   "outputs": [],
   "source": []
  },
  {
   "cell_type": "code",
   "execution_count": null,
   "metadata": {},
   "outputs": [],
   "source": []
  },
  {
   "cell_type": "markdown",
   "metadata": {},
   "source": [
    "**Is it satisfied?**"
   ]
  },
  {
   "cell_type": "markdown",
   "metadata": {},
   "source": [
    "## The Author's solution: Difference in Discontinuities"
   ]
  },
  {
   "cell_type": "markdown",
   "metadata": {},
   "source": [
    "This method exploits both the discontinuous variation at 5000 inhabitants and the time variation for the introduction of the policy. "
   ]
  },
  {
   "cell_type": "markdown",
   "metadata": {},
   "source": [
    "**Step 1:** Estimate the optimal bandwidth for the period *before* and *after* 2001 and take the average between the two."
   ]
  },
  {
   "cell_type": "code",
   "execution_count": 13,
   "metadata": {},
   "outputs": [
    {
     "name": "stdout",
     "output_type": "stream",
     "text": [
      "Mass points detected in the running variable.\n",
      "Call: rdbwselect\n",
      "Number of Observations:                  2100\n",
      "Polynomial Order Est. (p):                  2\n",
      "Polynomial Order Bias (q):                  3\n",
      "Kernel:                            Triangular\n",
      "Bandwidth Selection:                    mserd\n",
      "Var-Cov Estimator:                        HC1\n",
      "\n",
      "       h (left)  h (right)  b (left)  b (right)\n",
      "mserd   699.471    699.471   895.837    895.837\n",
      "\n",
      "Mass points detected in the running variable.\n",
      "Call: rdbwselect\n",
      "Number of Observations:                  2100\n",
      "Polynomial Order Est. (p):                  2\n",
      "Polynomial Order Bias (q):                  3\n",
      "Kernel:                            Triangular\n",
      "Bandwidth Selection:                    mserd\n",
      "Var-Cov Estimator:                        HC1\n",
      "\n",
      "       h (left)  h (right)  b (left)  b (right)\n",
      "mserd    653.68     653.68  1080.251   1080.251\n",
      "\n"
     ]
    }
   ],
   "source": [
    "margin = df[df['anno']<2001].pop5000\n",
    "outcome = [df[df['anno']<2001].deficit_pc, df[df['anno']<2001].imposte]\n",
    "\n",
    "for y in outcome:\n",
    "    print(rdbwselect(y=y, x=margin, p=2, vce='hc1'))"
   ]
  },
  {
   "cell_type": "code",
   "execution_count": 14,
   "metadata": {},
   "outputs": [
    {
     "name": "stdout",
     "output_type": "stream",
     "text": [
      "Mass points detected in the running variable.\n",
      "Call: rdbwselect\n",
      "Number of Observations:                  4200\n",
      "Polynomial Order Est. (p):                  2\n",
      "Polynomial Order Bias (q):                  3\n",
      "Kernel:                            Triangular\n",
      "Bandwidth Selection:                    mserd\n",
      "Var-Cov Estimator:                        HC1\n",
      "\n",
      "       h (left)  h (right)  b (left)  b (right)\n",
      "mserd     589.1      589.1   847.596    847.596\n",
      "\n",
      "Mass points detected in the running variable.\n",
      "Call: rdbwselect\n",
      "Number of Observations:                  4200\n",
      "Polynomial Order Est. (p):                  2\n",
      "Polynomial Order Bias (q):                  3\n",
      "Kernel:                            Triangular\n",
      "Bandwidth Selection:                    mserd\n",
      "Var-Cov Estimator:                        HC1\n",
      "\n",
      "       h (left)  h (right)  b (left)  b (right)\n",
      "mserd   665.188    665.188    917.09     917.09\n",
      "\n"
     ]
    }
   ],
   "source": [
    "margin = df[df['anno']>2000].pop5000\n",
    "outcome = [df[df['anno']>2000].deficit_pc, df[df['anno']>2000].imposte]\n",
    "\n",
    "for y in outcome:\n",
    "    print(rdbwselect(y=y, x=margin, p=2, vce='hc1'))"
   ]
  },
  {
   "cell_type": "code",
   "execution_count": 15,
   "metadata": {},
   "outputs": [],
   "source": [
    "tax_bw = (653.68 + 665.188)/2\n",
    "deficit_bw = (589.18 +699.47)/2"
   ]
  },
  {
   "cell_type": "markdown",
   "metadata": {},
   "source": [
    "**Step 2:** Estimate the following regression **within** the optimal bandwidth, where the coefficient of interest is $(\\alpha_0 + \\beta_0)$:\n",
    "\n",
    "<center>$y_{it} = \\delta_0 + \\delta_1 pop5000_i + t5000_i * (\\gamma_0 + \\gamma_1 pop5000_i) + post_t (\\alpha_0 + \\alpha_1 pop5000_i + t5000_i (\\beta_0 + \\beta_1 pop5000_i)) + \\varepsilon_{i,t}$</center>"
   ]
  },
  {
   "cell_type": "code",
   "execution_count": 16,
   "metadata": {
    "scrolled": true
   },
   "outputs": [
    {
     "data": {
      "text/html": [
       "<table class=\"simpletable\">\n",
       "<caption>PanelOLS Estimation Summary</caption>\n",
       "<tr>\n",
       "  <th>Dep. Variable:</th>       <td>deficit_pc</td>    <th>  R-squared:         </th>     <td>0.0034</td>  \n",
       "</tr>\n",
       "<tr>\n",
       "  <th>Estimator:</th>            <td>PanelOLS</td>     <th>  R-squared (Between):</th>    <td>0.0216</td>  \n",
       "</tr>\n",
       "<tr>\n",
       "  <th>No. Observations:</th>       <td>2648</td>       <th>  R-squared (Within):</th>     <td>0.0008</td>  \n",
       "</tr>\n",
       "<tr>\n",
       "  <th>Date:</th>             <td>Tue, Oct 25 2022</td> <th>  R-squared (Overall):</th>    <td>0.0034</td>  \n",
       "</tr>\n",
       "<tr>\n",
       "  <th>Time:</th>                 <td>16:44:02</td>     <th>  Log-likelihood     </th>   <td>-1.422e+04</td>\n",
       "</tr>\n",
       "<tr>\n",
       "  <th>Cov. Estimator:</th>       <td>Clustered</td>    <th>                     </th>        <td></td>     \n",
       "</tr>\n",
       "<tr>\n",
       "  <th></th>                          <td></td>         <th>  F-statistic:       </th>     <td>1.2844</td>  \n",
       "</tr>\n",
       "<tr>\n",
       "  <th>Entities:</th>                <td>562</td>       <th>  P-value            </th>     <td>0.2538</td>  \n",
       "</tr>\n",
       "<tr>\n",
       "  <th>Avg Obs:</th>               <td>4.7117</td>      <th>  Distribution:      </th>    <td>F(7,2640)</td>\n",
       "</tr>\n",
       "<tr>\n",
       "  <th>Min Obs:</th>               <td>2.0000</td>      <th>                     </th>        <td></td>     \n",
       "</tr>\n",
       "<tr>\n",
       "  <th>Max Obs:</th>               <td>6.0000</td>      <th>  F-statistic (robust):</th>   <td>1.7618</td>  \n",
       "</tr>\n",
       "<tr>\n",
       "  <th></th>                          <td></td>         <th>  P-value            </th>     <td>0.0907</td>  \n",
       "</tr>\n",
       "<tr>\n",
       "  <th>Time periods:</th>             <td>6</td>        <th>  Distribution:      </th>    <td>F(7,2640)</td>\n",
       "</tr>\n",
       "<tr>\n",
       "  <th>Avg Obs:</th>               <td>441.33</td>      <th>                     </th>        <td></td>     \n",
       "</tr>\n",
       "<tr>\n",
       "  <th>Min Obs:</th>               <td>433.00</td>      <th>                     </th>        <td></td>     \n",
       "</tr>\n",
       "<tr>\n",
       "  <th>Max Obs:</th>               <td>458.00</td>      <th>                     </th>        <td></td>     \n",
       "</tr>\n",
       "<tr>\n",
       "  <th></th>                          <td></td>         <th>                     </th>        <td></td>     \n",
       "</tr>\n",
       "</table>\n",
       "<table class=\"simpletable\">\n",
       "<caption>Parameter Estimates</caption>\n",
       "<tr>\n",
       "        <td></td>        <th>Parameter</th> <th>Std. Err.</th> <th>T-stat</th>  <th>P-value</th> <th>Lower CI</th> <th>Upper CI</th>\n",
       "</tr>\n",
       "<tr>\n",
       "  <th>const</th>          <td>18.584</td>    <td>3.4418</td>   <td>5.3995</td>  <td>0.0000</td>   <td>11.835</td>   <td>25.333</td> \n",
       "</tr>\n",
       "<tr>\n",
       "  <th>tpost</th>          <td>19.251</td>    <td>7.2069</td>   <td>2.6712</td>  <td>0.0076</td>   <td>5.1195</td>   <td>33.383</td> \n",
       "</tr>\n",
       "<tr>\n",
       "  <th>tpop5000</th>       <td>0.0069</td>    <td>0.0126</td>   <td>0.5487</td>  <td>0.5833</td>   <td>-0.0178</td>  <td>0.0317</td> \n",
       "</tr>\n",
       "<tr>\n",
       "  <th>post_pop5000</th>   <td>0.0125</td>    <td>0.0127</td>   <td>0.9842</td>  <td>0.3251</td>   <td>-0.0124</td>  <td>0.0373</td> \n",
       "</tr>\n",
       "<tr>\n",
       "  <th>post_tpop5000</th>  <td>0.0134</td>    <td>0.0183</td>   <td>0.7327</td>  <td>0.4638</td>   <td>-0.0225</td>  <td>0.0493</td> \n",
       "</tr>\n",
       "<tr>\n",
       "  <th>pop5000</th>        <td>-0.0174</td>   <td>0.0098</td>   <td>-1.7884</td> <td>0.0738</td>   <td>-0.0366</td>  <td>0.0017</td> \n",
       "</tr>\n",
       "<tr>\n",
       "  <th>t5000</th>          <td>-11.267</td>   <td>4.6006</td>   <td>-2.4490</td> <td>0.0144</td>   <td>-20.288</td>  <td>-2.2459</td>\n",
       "</tr>\n",
       "<tr>\n",
       "  <th>post</th>           <td>-6.6359</td>   <td>4.7200</td>   <td>-1.4059</td> <td>0.1599</td>   <td>-15.891</td>  <td>2.6193</td> \n",
       "</tr>\n",
       "</table><br/><br/><br/>id: 0x17e5d1dc0"
      ],
      "text/plain": [
       "                          PanelOLS Estimation Summary                           \n",
       "================================================================================\n",
       "Dep. Variable:             deficit_pc   R-squared:                        0.0034\n",
       "Estimator:                   PanelOLS   R-squared (Between):              0.0216\n",
       "No. Observations:                2648   R-squared (Within):               0.0008\n",
       "Date:                Tue, Oct 25 2022   R-squared (Overall):              0.0034\n",
       "Time:                        16:44:02   Log-likelihood                -1.422e+04\n",
       "Cov. Estimator:             Clustered                                           \n",
       "                                        F-statistic:                      1.2844\n",
       "Entities:                         562   P-value                           0.2538\n",
       "Avg Obs:                       4.7117   Distribution:                  F(7,2640)\n",
       "Min Obs:                       2.0000                                           \n",
       "Max Obs:                       6.0000   F-statistic (robust):             1.7618\n",
       "                                        P-value                           0.0907\n",
       "Time periods:                       6   Distribution:                  F(7,2640)\n",
       "Avg Obs:                       441.33                                           \n",
       "Min Obs:                       433.00                                           \n",
       "Max Obs:                       458.00                                           \n",
       "                                                                                \n",
       "                               Parameter Estimates                               \n",
       "=================================================================================\n",
       "               Parameter  Std. Err.     T-stat    P-value    Lower CI    Upper CI\n",
       "---------------------------------------------------------------------------------\n",
       "const             18.584     3.4418     5.3995     0.0000      11.835      25.333\n",
       "tpost             19.251     7.2069     2.6712     0.0076      5.1195      33.383\n",
       "tpop5000          0.0069     0.0126     0.5487     0.5833     -0.0178      0.0317\n",
       "post_pop5000      0.0125     0.0127     0.9842     0.3251     -0.0124      0.0373\n",
       "post_tpop5000     0.0134     0.0183     0.7327     0.4638     -0.0225      0.0493\n",
       "pop5000          -0.0174     0.0098    -1.7884     0.0738     -0.0366      0.0017\n",
       "t5000            -11.267     4.6006    -2.4490     0.0144     -20.288     -2.2459\n",
       "post             -6.6359     4.7200    -1.4059     0.1599     -15.891      2.6193\n",
       "=================================================================================\n",
       "\n",
       "\n",
       "PanelEffectsResults, id: 0x17e5d1dc0"
      ]
     },
     "execution_count": 16,
     "metadata": {},
     "output_type": "execute_result"
    }
   ],
   "source": [
    "import statsmodels.api as sm\n",
    "\n",
    "df['tpop5000'] = df['t5000']*df['pop5000']\n",
    "df['post_pop5000'] = df['post']*df['pop5000']\n",
    "df['post_tpop5000'] = df['t5000']*df['pop5000']*df['post']\n",
    "expl = ['tpost','tpop5000', 'post_pop5000', 'post_tpop5000', 'pop5000', 't5000', 'post']\n",
    "\n",
    "\n",
    "df_did = df[df['pop5000'].abs()<deficit_bw].set_index(['id_comune', 'anno'])\n",
    "\n",
    "expl_var = sm.add_constant(df_did[expl])\n",
    "\n",
    "dic_deficit = PanelOLS(df_did.deficit_pc, expl_var).fit(cov_type = 'clustered', cluster_entity=True)\n",
    "dic_deficit"
   ]
  },
  {
   "cell_type": "code",
   "execution_count": 17,
   "metadata": {},
   "outputs": [
    {
     "data": {
      "text/html": [
       "<table class=\"simpletable\">\n",
       "<caption>PanelOLS Estimation Summary</caption>\n",
       "<tr>\n",
       "  <th>Dep. Variable:</th>         <td>imposte</td>     <th>  R-squared:         </th>     <td>0.1440</td>  \n",
       "</tr>\n",
       "<tr>\n",
       "  <th>Estimator:</th>            <td>PanelOLS</td>     <th>  R-squared (Between):</th>    <td>0.1217</td>  \n",
       "</tr>\n",
       "<tr>\n",
       "  <th>No. Observations:</th>       <td>2728</td>       <th>  R-squared (Within):</th>     <td>0.3377</td>  \n",
       "</tr>\n",
       "<tr>\n",
       "  <th>Date:</th>             <td>Tue, Oct 25 2022</td> <th>  R-squared (Overall):</th>    <td>0.1440</td>  \n",
       "</tr>\n",
       "<tr>\n",
       "  <th>Time:</th>                 <td>16:44:08</td>     <th>  Log-likelihood     </th>   <td>-1.649e+04</td>\n",
       "</tr>\n",
       "<tr>\n",
       "  <th>Cov. Estimator:</th>       <td>Clustered</td>    <th>                     </th>        <td></td>     \n",
       "</tr>\n",
       "<tr>\n",
       "  <th></th>                          <td></td>         <th>  F-statistic:       </th>     <td>65.379</td>  \n",
       "</tr>\n",
       "<tr>\n",
       "  <th>Entities:</th>                <td>576</td>       <th>  P-value            </th>     <td>0.0000</td>  \n",
       "</tr>\n",
       "<tr>\n",
       "  <th>Avg Obs:</th>               <td>4.7361</td>      <th>  Distribution:      </th>    <td>F(7,2720)</td>\n",
       "</tr>\n",
       "<tr>\n",
       "  <th>Min Obs:</th>               <td>2.0000</td>      <th>                     </th>        <td></td>     \n",
       "</tr>\n",
       "<tr>\n",
       "  <th>Max Obs:</th>               <td>6.0000</td>      <th>  F-statistic (robust):</th>   <td>85.757</td>  \n",
       "</tr>\n",
       "<tr>\n",
       "  <th></th>                          <td></td>         <th>  P-value            </th>     <td>0.0000</td>  \n",
       "</tr>\n",
       "<tr>\n",
       "  <th>Time periods:</th>             <td>6</td>        <th>  Distribution:      </th>    <td>F(7,2720)</td>\n",
       "</tr>\n",
       "<tr>\n",
       "  <th>Avg Obs:</th>               <td>454.67</td>      <th>                     </th>        <td></td>     \n",
       "</tr>\n",
       "<tr>\n",
       "  <th>Min Obs:</th>               <td>448.00</td>      <th>                     </th>        <td></td>     \n",
       "</tr>\n",
       "<tr>\n",
       "  <th>Max Obs:</th>               <td>468.00</td>      <th>                     </th>        <td></td>     \n",
       "</tr>\n",
       "<tr>\n",
       "  <th></th>                          <td></td>         <th>                     </th>        <td></td>     \n",
       "</tr>\n",
       "</table>\n",
       "<table class=\"simpletable\">\n",
       "<caption>Parameter Estimates</caption>\n",
       "<tr>\n",
       "        <td></td>        <th>Parameter</th> <th>Std. Err.</th> <th>T-stat</th>  <th>P-value</th> <th>Lower CI</th> <th>Upper CI</th>\n",
       "</tr>\n",
       "<tr>\n",
       "  <th>const</th>          <td>126.41</td>    <td>8.3594</td>   <td>15.122</td>  <td>0.0000</td>   <td>110.02</td>   <td>142.81</td> \n",
       "</tr>\n",
       "<tr>\n",
       "  <th>tpost</th>          <td>-29.104</td>   <td>20.870</td>   <td>-1.3945</td> <td>0.1633</td>   <td>-70.027</td>  <td>11.819</td> \n",
       "</tr>\n",
       "<tr>\n",
       "  <th>tpop5000</th>       <td>-0.0153</td>   <td>0.0282</td>   <td>-0.5425</td> <td>0.5875</td>   <td>-0.0706</td>  <td>0.0400</td> \n",
       "</tr>\n",
       "<tr>\n",
       "  <th>post_pop5000</th>   <td>-0.0371</td>   <td>0.0442</td>   <td>-0.8409</td> <td>0.4005</td>   <td>-0.1237</td>  <td>0.0494</td> \n",
       "</tr>\n",
       "<tr>\n",
       "  <th>post_tpop5000</th>  <td>0.0265</td>    <td>0.0578</td>   <td>0.4593</td>  <td>0.6461</td>   <td>-0.0868</td>  <td>0.1399</td> \n",
       "</tr>\n",
       "<tr>\n",
       "  <th>pop5000</th>        <td>0.0051</td>    <td>0.0226</td>   <td>0.2253</td>  <td>0.8218</td>   <td>-0.0393</td>  <td>0.0495</td> \n",
       "</tr>\n",
       "<tr>\n",
       "  <th>t5000</th>          <td>-1.8947</td>   <td>10.645</td>   <td>-0.1780</td> <td>0.8588</td>   <td>-22.769</td>  <td>18.979</td> \n",
       "</tr>\n",
       "<tr>\n",
       "  <th>post</th>           <td>106.62</td>    <td>15.893</td>   <td>6.7086</td>  <td>0.0000</td>   <td>75.459</td>   <td>137.79</td> \n",
       "</tr>\n",
       "</table><br/><br/><br/>id: 0x17e725a60"
      ],
      "text/plain": [
       "                          PanelOLS Estimation Summary                           \n",
       "================================================================================\n",
       "Dep. Variable:                imposte   R-squared:                        0.1440\n",
       "Estimator:                   PanelOLS   R-squared (Between):              0.1217\n",
       "No. Observations:                2728   R-squared (Within):               0.3377\n",
       "Date:                Tue, Oct 25 2022   R-squared (Overall):              0.1440\n",
       "Time:                        16:44:08   Log-likelihood                -1.649e+04\n",
       "Cov. Estimator:             Clustered                                           \n",
       "                                        F-statistic:                      65.379\n",
       "Entities:                         576   P-value                           0.0000\n",
       "Avg Obs:                       4.7361   Distribution:                  F(7,2720)\n",
       "Min Obs:                       2.0000                                           \n",
       "Max Obs:                       6.0000   F-statistic (robust):             85.757\n",
       "                                        P-value                           0.0000\n",
       "Time periods:                       6   Distribution:                  F(7,2720)\n",
       "Avg Obs:                       454.67                                           \n",
       "Min Obs:                       448.00                                           \n",
       "Max Obs:                       468.00                                           \n",
       "                                                                                \n",
       "                               Parameter Estimates                               \n",
       "=================================================================================\n",
       "               Parameter  Std. Err.     T-stat    P-value    Lower CI    Upper CI\n",
       "---------------------------------------------------------------------------------\n",
       "const             126.41     8.3594     15.122     0.0000      110.02      142.81\n",
       "tpost            -29.104     20.870    -1.3945     0.1633     -70.027      11.819\n",
       "tpop5000         -0.0153     0.0282    -0.5425     0.5875     -0.0706      0.0400\n",
       "post_pop5000     -0.0371     0.0442    -0.8409     0.4005     -0.1237      0.0494\n",
       "post_tpop5000     0.0265     0.0578     0.4593     0.6461     -0.0868      0.1399\n",
       "pop5000           0.0051     0.0226     0.2253     0.8218     -0.0393      0.0495\n",
       "t5000            -1.8947     10.645    -0.1780     0.8588     -22.769      18.979\n",
       "post              106.62     15.893     6.7086     0.0000      75.459      137.79\n",
       "=================================================================================\n",
       "\n",
       "\n",
       "PanelEffectsResults, id: 0x17e725a60"
      ]
     },
     "execution_count": 17,
     "metadata": {},
     "output_type": "execute_result"
    }
   ],
   "source": [
    "df_did = df[df['pop5000'].abs()<tax_bw].set_index(['id_comune', 'anno'])\n",
    "\n",
    "expl_var = sm.add_constant(df_did[expl])\n",
    "\n",
    "dic_taxes = PanelOLS(df_did.imposte, expl_var).fit(cov_type = 'clustered', cluster_entity=True)\n",
    "dic_taxes"
   ]
  },
  {
   "cell_type": "code",
   "execution_count": null,
   "metadata": {},
   "outputs": [],
   "source": []
  }
 ],
 "metadata": {
  "kernelspec": {
   "display_name": "Python 3.9.13 ('brj')",
   "language": "python",
   "name": "python3"
  },
  "language_info": {
   "codemirror_mode": {
    "name": "ipython",
    "version": 3
   },
   "file_extension": ".py",
   "mimetype": "text/x-python",
   "name": "python",
   "nbconvert_exporter": "python",
   "pygments_lexer": "ipython3",
   "version": "3.9.13"
  },
  "vscode": {
   "interpreter": {
    "hash": "dfffd512b5389e9d3dcf7625ef773f2ceb18044b61b4057c9b3522de66270c4b"
   }
  }
 },
 "nbformat": 4,
 "nbformat_minor": 4
}
