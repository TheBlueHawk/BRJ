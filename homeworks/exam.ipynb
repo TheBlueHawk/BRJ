{
 "cells": [
  {
   "cell_type": "code",
   "execution_count": 34,
   "metadata": {},
   "outputs": [],
   "source": [
    "## WRONG WORKFLOW\n",
    "\n",
    "import pandas as pd\n",
    "import numpy as np\n",
    "from sklearn.model_selection import train_test_split\n",
    "from sklearn.utils import resample\n",
    "\n",
    "# Load a dataeset (e.g: data from homework 5)\n",
    "df = pd.read_csv('data/HW05.csv')\n",
    "\n",
    "#identify minority class\n",
    "df_0 = df[df.iloc[:, -1] == 0]\n",
    "df_1 = df[df.iloc[:, -1] == 1] \n",
    "count0 = len(df_0)\n",
    "count1 = len(df_1)\n",
    "\n",
    "# upsample and concat to get a balanced dataset\n",
    "if count0 < count1:\n",
    "    # 0 is the minority class\n",
    "    df_0_upsampled = resample(df_0,random_state=42,n_samples=int(np.ceil(count1/count0)),replace=True)\n",
    "    balanced_df = pd.concat([df_0_upsampled, df_1])\n",
    "else:\n",
    "    # 1 is the minority class, upsample \n",
    "    print(np.ceil(count0/count1))\n",
    "    df_1_upsampled = resample(df_1,random_state=42,n_samples=int(np.ceil(count0/count1)),replace=True)\n",
    "    balanced_df = pd.concat([df_1_upsampled, df_0])\n",
    "\n",
    "# Train data\n",
    "X = balanced_df.iloc[:, :-1]\n",
    "# Target:\n",
    "y = balanced_df.iloc[:, -1]\n",
    "# Split the data into 80% training and 20% test\n",
    "X_train, X_test, y_train, y_test = train_test_split(X, y, test_size=0.2, random_state=42)\n",
    "\n",
    "#TODO show duplicates"
   ]
  },
  {
   "cell_type": "code",
   "execution_count": 30,
   "metadata": {},
   "outputs": [],
   "source": [
    "## RIGHT WORKFLOW\n",
    "import pandas as pd\n",
    "import numpy as np\n",
    "from sklearn.model_selection import train_test_split\n",
    "from sklearn.utils import resample\n",
    "\n",
    "# Load a dataeset (e.g: data from homework 5)\n",
    "df = pd.read_csv('data/HW05.csv')\n",
    "\n",
    "# Train data\n",
    "X = df.iloc[:, :-1]\n",
    "# Target:\n",
    "y = df.iloc[:, -1]\n",
    "# Split the data into 80% training and 20% test\n",
    "X_train, X_test, y_train, y_test = train_test_split(X, y, test_size=0.2, random_state=42)\n",
    "\n",
    "# Recompose dataset with only training data\n",
    "df_train = pd.DataFrame(X_train)\n",
    "df_train[\"target\"] = y_train\n",
    "#identify minority class\n",
    "df_train_0 = df[df.iloc[:, -1] == 0]\n",
    "df_train_1 = df[df.iloc[:, -1] == 1] \n",
    "count0 = len(df_0)\n",
    "count1 = len(df_1)\n",
    "\n",
    "# upsample and concat to get a balanced dataset\n",
    "if count0 < count1:\n",
    "    # 0 is the minority class\n",
    "    df_0_train_upsampled = resample(df_0,random_state=42,n_samples=int(np.ceil(count1/count0)),replace=True)\n",
    "    balanced_train_df = pd.concat([df_0_upsampled, df_1])\n",
    "else:\n",
    "    # 1 is the minority class, upsample \n",
    "    df_train_1_upsampled = resample(df_1,random_state=42,n_samples=int(np.ceil(count0/count1)),replace=True)\n",
    "    balanced_train_df = pd.concat([df_1_upsampled, df_0])"
   ]
  },
  {
   "cell_type": "code",
   "execution_count": null,
   "metadata": {},
   "outputs": [],
   "source": []
  }
 ],
 "metadata": {
  "kernelspec": {
   "display_name": "Python 3.9.13 ('brj')",
   "language": "python",
   "name": "python3"
  },
  "language_info": {
   "codemirror_mode": {
    "name": "ipython",
    "version": 3
   },
   "file_extension": ".py",
   "mimetype": "text/x-python",
   "name": "python",
   "nbconvert_exporter": "python",
   "pygments_lexer": "ipython3",
   "version": "3.9.13"
  },
  "orig_nbformat": 4,
  "vscode": {
   "interpreter": {
    "hash": "dfffd512b5389e9d3dcf7625ef773f2ceb18044b61b4057c9b3522de66270c4b"
   }
  }
 },
 "nbformat": 4,
 "nbformat_minor": 2
}
