{
 "cells": [
  {
   "cell_type": "markdown",
   "metadata": {},
   "source": [
    "# HW10: Algorithmic Fairness \n",
    "\n",
    "### Note: to complete most of this homework notions from week 11 slides are needed\n",
    "\n",
    "In this homework you will assess racial bias in the COMPAS algorithm and judges decisions. \n",
    "\n",
    "The data is a collection of 7000 criminal cases in Florida in which COMPAS was used and it contains information about defendants' demographics, criminal history (e.g., juvenile criminal records), court decision and recidivism."
   ]
  },
  {
   "cell_type": "code",
   "execution_count": 158,
   "metadata": {},
   "outputs": [],
   "source": [
    "import pandas as pd \n",
    "import matplotlib.pyplot as plt\n",
    "import seaborn as sns\n",
    "sns.set_theme()\n",
    "import warnings\n",
    "warnings.filterwarnings('ignore', category=FutureWarning)\n",
    "warnings.filterwarnings('ignore', category=DeprecationWarning)\n",
    "warnings.filterwarnings = lambda *a, **kw: None"
   ]
  },
  {
   "cell_type": "markdown",
   "metadata": {},
   "source": [
    "## Data Preparation"
   ]
  },
  {
   "cell_type": "code",
   "execution_count": 159,
   "metadata": {},
   "outputs": [
    {
     "data": {
      "text/html": [
       "<div>\n",
       "<style scoped>\n",
       "    .dataframe tbody tr th:only-of-type {\n",
       "        vertical-align: middle;\n",
       "    }\n",
       "\n",
       "    .dataframe tbody tr th {\n",
       "        vertical-align: top;\n",
       "    }\n",
       "\n",
       "    .dataframe thead th {\n",
       "        text-align: right;\n",
       "    }\n",
       "</style>\n",
       "<table border=\"1\" class=\"dataframe\">\n",
       "  <thead>\n",
       "    <tr style=\"text-align: right;\">\n",
       "      <th></th>\n",
       "      <th>id</th>\n",
       "      <th>name</th>\n",
       "      <th>first</th>\n",
       "      <th>last</th>\n",
       "      <th>compas_screening_date</th>\n",
       "      <th>sex</th>\n",
       "      <th>dob</th>\n",
       "      <th>age</th>\n",
       "      <th>age_cat</th>\n",
       "      <th>race</th>\n",
       "      <th>...</th>\n",
       "      <th>v_decile_score</th>\n",
       "      <th>v_score_text</th>\n",
       "      <th>v_screening_date</th>\n",
       "      <th>in_custody</th>\n",
       "      <th>out_custody</th>\n",
       "      <th>priors_count.1</th>\n",
       "      <th>start</th>\n",
       "      <th>end</th>\n",
       "      <th>event</th>\n",
       "      <th>two_year_recid</th>\n",
       "    </tr>\n",
       "  </thead>\n",
       "  <tbody>\n",
       "    <tr>\n",
       "      <th>0</th>\n",
       "      <td>1</td>\n",
       "      <td>miguel hernandez</td>\n",
       "      <td>miguel</td>\n",
       "      <td>hernandez</td>\n",
       "      <td>2013-08-14</td>\n",
       "      <td>Male</td>\n",
       "      <td>1947-04-18</td>\n",
       "      <td>69</td>\n",
       "      <td>Greater than 45</td>\n",
       "      <td>Other</td>\n",
       "      <td>...</td>\n",
       "      <td>1</td>\n",
       "      <td>Low</td>\n",
       "      <td>2013-08-14</td>\n",
       "      <td>2014-07-07</td>\n",
       "      <td>2014-07-14</td>\n",
       "      <td>0</td>\n",
       "      <td>0</td>\n",
       "      <td>327</td>\n",
       "      <td>0</td>\n",
       "      <td>0</td>\n",
       "    </tr>\n",
       "    <tr>\n",
       "      <th>1</th>\n",
       "      <td>3</td>\n",
       "      <td>kevon dixon</td>\n",
       "      <td>kevon</td>\n",
       "      <td>dixon</td>\n",
       "      <td>2013-01-27</td>\n",
       "      <td>Male</td>\n",
       "      <td>1982-01-22</td>\n",
       "      <td>34</td>\n",
       "      <td>25 - 45</td>\n",
       "      <td>African-American</td>\n",
       "      <td>...</td>\n",
       "      <td>1</td>\n",
       "      <td>Low</td>\n",
       "      <td>2013-01-27</td>\n",
       "      <td>2013-01-26</td>\n",
       "      <td>2013-02-05</td>\n",
       "      <td>0</td>\n",
       "      <td>9</td>\n",
       "      <td>159</td>\n",
       "      <td>1</td>\n",
       "      <td>1</td>\n",
       "    </tr>\n",
       "    <tr>\n",
       "      <th>2</th>\n",
       "      <td>4</td>\n",
       "      <td>ed philo</td>\n",
       "      <td>ed</td>\n",
       "      <td>philo</td>\n",
       "      <td>2013-04-14</td>\n",
       "      <td>Male</td>\n",
       "      <td>1991-05-14</td>\n",
       "      <td>24</td>\n",
       "      <td>Less than 25</td>\n",
       "      <td>African-American</td>\n",
       "      <td>...</td>\n",
       "      <td>3</td>\n",
       "      <td>Low</td>\n",
       "      <td>2013-04-14</td>\n",
       "      <td>2013-06-16</td>\n",
       "      <td>2013-06-16</td>\n",
       "      <td>4</td>\n",
       "      <td>0</td>\n",
       "      <td>63</td>\n",
       "      <td>0</td>\n",
       "      <td>1</td>\n",
       "    </tr>\n",
       "    <tr>\n",
       "      <th>3</th>\n",
       "      <td>5</td>\n",
       "      <td>marcu brown</td>\n",
       "      <td>marcu</td>\n",
       "      <td>brown</td>\n",
       "      <td>2013-01-13</td>\n",
       "      <td>Male</td>\n",
       "      <td>1993-01-21</td>\n",
       "      <td>23</td>\n",
       "      <td>Less than 25</td>\n",
       "      <td>African-American</td>\n",
       "      <td>...</td>\n",
       "      <td>6</td>\n",
       "      <td>Medium</td>\n",
       "      <td>2013-01-13</td>\n",
       "      <td>NaN</td>\n",
       "      <td>NaN</td>\n",
       "      <td>1</td>\n",
       "      <td>0</td>\n",
       "      <td>1174</td>\n",
       "      <td>0</td>\n",
       "      <td>0</td>\n",
       "    </tr>\n",
       "    <tr>\n",
       "      <th>4</th>\n",
       "      <td>6</td>\n",
       "      <td>bouthy pierrelouis</td>\n",
       "      <td>bouthy</td>\n",
       "      <td>pierrelouis</td>\n",
       "      <td>2013-03-26</td>\n",
       "      <td>Male</td>\n",
       "      <td>1973-01-22</td>\n",
       "      <td>43</td>\n",
       "      <td>25 - 45</td>\n",
       "      <td>Other</td>\n",
       "      <td>...</td>\n",
       "      <td>1</td>\n",
       "      <td>Low</td>\n",
       "      <td>2013-03-26</td>\n",
       "      <td>NaN</td>\n",
       "      <td>NaN</td>\n",
       "      <td>2</td>\n",
       "      <td>0</td>\n",
       "      <td>1102</td>\n",
       "      <td>0</td>\n",
       "      <td>0</td>\n",
       "    </tr>\n",
       "  </tbody>\n",
       "</table>\n",
       "<p>5 rows × 53 columns</p>\n",
       "</div>"
      ],
      "text/plain": [
       "   id                name   first         last compas_screening_date   sex  \\\n",
       "0   1    miguel hernandez  miguel    hernandez            2013-08-14  Male   \n",
       "1   3         kevon dixon   kevon        dixon            2013-01-27  Male   \n",
       "2   4            ed philo      ed        philo            2013-04-14  Male   \n",
       "3   5         marcu brown   marcu        brown            2013-01-13  Male   \n",
       "4   6  bouthy pierrelouis  bouthy  pierrelouis            2013-03-26  Male   \n",
       "\n",
       "          dob  age          age_cat              race  ...  v_decile_score  \\\n",
       "0  1947-04-18   69  Greater than 45             Other  ...               1   \n",
       "1  1982-01-22   34          25 - 45  African-American  ...               1   \n",
       "2  1991-05-14   24     Less than 25  African-American  ...               3   \n",
       "3  1993-01-21   23     Less than 25  African-American  ...               6   \n",
       "4  1973-01-22   43          25 - 45             Other  ...               1   \n",
       "\n",
       "   v_score_text  v_screening_date  in_custody  out_custody  priors_count.1  \\\n",
       "0           Low        2013-08-14  2014-07-07   2014-07-14               0   \n",
       "1           Low        2013-01-27  2013-01-26   2013-02-05               0   \n",
       "2           Low        2013-04-14  2013-06-16   2013-06-16               4   \n",
       "3        Medium        2013-01-13         NaN          NaN               1   \n",
       "4           Low        2013-03-26         NaN          NaN               2   \n",
       "\n",
       "  start   end event two_year_recid  \n",
       "0     0   327     0              0  \n",
       "1     9   159     1              1  \n",
       "2     0    63     0              1  \n",
       "3     0  1174     0              0  \n",
       "4     0  1102     0              0  \n",
       "\n",
       "[5 rows x 53 columns]"
      ]
     },
     "execution_count": 159,
     "metadata": {},
     "output_type": "execute_result"
    }
   ],
   "source": [
    "df = pd.read_csv('https://raw.githubusercontent.com/propublica/compas-analysis/master/compas-scores-two-years.csv')\n",
    "df.head()"
   ]
  },
  {
   "cell_type": "code",
   "execution_count": 160,
   "metadata": {},
   "outputs": [
    {
     "name": "stdout",
     "output_type": "stream",
     "text": [
      "<class 'pandas.core.frame.DataFrame'>\n",
      "RangeIndex: 7214 entries, 0 to 7213\n",
      "Data columns (total 53 columns):\n",
      " #   Column                   Non-Null Count  Dtype  \n",
      "---  ------                   --------------  -----  \n",
      " 0   id                       7214 non-null   int64  \n",
      " 1   name                     7214 non-null   object \n",
      " 2   first                    7214 non-null   object \n",
      " 3   last                     7214 non-null   object \n",
      " 4   compas_screening_date    7214 non-null   object \n",
      " 5   sex                      7214 non-null   object \n",
      " 6   dob                      7214 non-null   object \n",
      " 7   age                      7214 non-null   int64  \n",
      " 8   age_cat                  7214 non-null   object \n",
      " 9   race                     7214 non-null   object \n",
      " 10  juv_fel_count            7214 non-null   int64  \n",
      " 11  decile_score             7214 non-null   int64  \n",
      " 12  juv_misd_count           7214 non-null   int64  \n",
      " 13  juv_other_count          7214 non-null   int64  \n",
      " 14  priors_count             7214 non-null   int64  \n",
      " 15  days_b_screening_arrest  6907 non-null   float64\n",
      " 16  c_jail_in                6907 non-null   object \n",
      " 17  c_jail_out               6907 non-null   object \n",
      " 18  c_case_number            7192 non-null   object \n",
      " 19  c_offense_date           6055 non-null   object \n",
      " 20  c_arrest_date            1137 non-null   object \n",
      " 21  c_days_from_compas       7192 non-null   float64\n",
      " 22  c_charge_degree          7214 non-null   object \n",
      " 23  c_charge_desc            7185 non-null   object \n",
      " 24  is_recid                 7214 non-null   int64  \n",
      " 25  r_case_number            3471 non-null   object \n",
      " 26  r_charge_degree          3471 non-null   object \n",
      " 27  r_days_from_arrest       2316 non-null   float64\n",
      " 28  r_offense_date           3471 non-null   object \n",
      " 29  r_charge_desc            3413 non-null   object \n",
      " 30  r_jail_in                2316 non-null   object \n",
      " 31  r_jail_out               2316 non-null   object \n",
      " 32  violent_recid            0 non-null      float64\n",
      " 33  is_violent_recid         7214 non-null   int64  \n",
      " 34  vr_case_number           819 non-null    object \n",
      " 35  vr_charge_degree         819 non-null    object \n",
      " 36  vr_offense_date          819 non-null    object \n",
      " 37  vr_charge_desc           819 non-null    object \n",
      " 38  type_of_assessment       7214 non-null   object \n",
      " 39  decile_score.1           7214 non-null   int64  \n",
      " 40  score_text               7214 non-null   object \n",
      " 41  screening_date           7214 non-null   object \n",
      " 42  v_type_of_assessment     7214 non-null   object \n",
      " 43  v_decile_score           7214 non-null   int64  \n",
      " 44  v_score_text             7214 non-null   object \n",
      " 45  v_screening_date         7214 non-null   object \n",
      " 46  in_custody               6978 non-null   object \n",
      " 47  out_custody              6978 non-null   object \n",
      " 48  priors_count.1           7214 non-null   int64  \n",
      " 49  start                    7214 non-null   int64  \n",
      " 50  end                      7214 non-null   int64  \n",
      " 51  event                    7214 non-null   int64  \n",
      " 52  two_year_recid           7214 non-null   int64  \n",
      "dtypes: float64(4), int64(16), object(33)\n",
      "memory usage: 2.9+ MB\n"
     ]
    }
   ],
   "source": [
    "df.info()"
   ]
  },
  {
   "cell_type": "code",
   "execution_count": 161,
   "metadata": {},
   "outputs": [],
   "source": [
    "df['days_from_recid'] = pd.to_datetime(df['r_offense_date']) - pd.to_datetime(df['c_offense_date'])\n",
    "df['days_from_recid'] = df['days_from_recid'].dt.days\n",
    "df['two_year_recid2'] = (df['days_from_recid']<=730).astype(int)\n",
    "\n",
    "#generate felony charge dummies\n",
    "df['felony'] = (df['c_charge_degree'] == 'F').astype(int)\n",
    "\n",
    "#generate age dummies\n",
    "d = pd.get_dummies(df['age_cat'])\n",
    "df = pd.concat([df, d], axis=1)\n",
    "df = df.rename(columns={'25 - 45':'age_cat_25 - 45', 'Greater than 45':'age_cat_Greater than 45', 'Less than 25':'age_cat_Less than 25'})\n",
    "\n",
    "#generate ethnicity, race and compas score dummies\n",
    "d = pd.get_dummies(df['race'])\n",
    "df = pd.concat([df, d], axis=1)\n",
    "df['male'] = (df['sex'] == 'Male').astype(int)\n",
    "d = pd.get_dummies(df['score_text'])\n",
    "df = pd.concat([df, d], axis=1)\n",
    "df = df.rename(columns={'High':'score_text_high', 'Medium':'score_text_medium', 'Low':'score_text_low'})"
   ]
  },
  {
   "cell_type": "markdown",
   "metadata": {},
   "source": [
    "### Setting outcomes and predictors\n",
    "\n",
    "The *ideal* target variable for the COMPAS algorithm is the presence of a recidivism episode, while for judges is the decision to send the defendant to jail. For the predictors we use some deomgraphic characteristics **excluding race**, criminal hisotry and type of crime. "
   ]
  },
  {
   "cell_type": "code",
   "execution_count": 162,
   "metadata": {},
   "outputs": [
    {
     "data": {
      "text/plain": [
       "0    4283\n",
       "1    2931\n",
       "Name: jailed, dtype: int64"
      ]
     },
     "execution_count": 162,
     "metadata": {},
     "output_type": "execute_result"
    }
   ],
   "source": [
    "# judge decision: \"jailed\" = more than one day in jail.\n",
    "df['jail_days'] = pd.to_datetime(df['c_jail_out']) - pd.to_datetime(df['c_jail_in'])\n",
    "df['jailed'] = (df.jail_days.dt.days > 1).astype(int)\n",
    "D = df['jailed']\n",
    "D.value_counts()"
   ]
  },
  {
   "cell_type": "code",
   "execution_count": 163,
   "metadata": {},
   "outputs": [
    {
     "data": {
      "text/plain": [
       "0    4557\n",
       "1    2657\n",
       "Name: two_year_recid2, dtype: int64"
      ]
     },
     "execution_count": 163,
     "metadata": {},
     "output_type": "execute_result"
    }
   ],
   "source": [
    "# Algorithm outcome\n",
    "Y = df['two_year_recid2'] \n",
    "Y.value_counts()"
   ]
  },
  {
   "cell_type": "code",
   "execution_count": 164,
   "metadata": {},
   "outputs": [
    {
     "data": {
      "text/html": [
       "<div>\n",
       "<style scoped>\n",
       "    .dataframe tbody tr th:only-of-type {\n",
       "        vertical-align: middle;\n",
       "    }\n",
       "\n",
       "    .dataframe tbody tr th {\n",
       "        vertical-align: top;\n",
       "    }\n",
       "\n",
       "    .dataframe thead th {\n",
       "        text-align: right;\n",
       "    }\n",
       "</style>\n",
       "<table border=\"1\" class=\"dataframe\">\n",
       "  <thead>\n",
       "    <tr style=\"text-align: right;\">\n",
       "      <th></th>\n",
       "      <th>felony</th>\n",
       "      <th>male</th>\n",
       "      <th>age</th>\n",
       "      <th>juv_fel_count</th>\n",
       "      <th>juv_misd_count</th>\n",
       "      <th>juv_other_count</th>\n",
       "      <th>priors_count</th>\n",
       "    </tr>\n",
       "  </thead>\n",
       "  <tbody>\n",
       "    <tr>\n",
       "      <th>count</th>\n",
       "      <td>7214.000000</td>\n",
       "      <td>7214.000000</td>\n",
       "      <td>7214.000000</td>\n",
       "      <td>7214.000000</td>\n",
       "      <td>7214.000000</td>\n",
       "      <td>7214.000000</td>\n",
       "      <td>7214.000000</td>\n",
       "    </tr>\n",
       "    <tr>\n",
       "      <th>mean</th>\n",
       "      <td>0.646798</td>\n",
       "      <td>0.806626</td>\n",
       "      <td>34.817993</td>\n",
       "      <td>0.067230</td>\n",
       "      <td>0.090934</td>\n",
       "      <td>0.109371</td>\n",
       "      <td>3.472415</td>\n",
       "    </tr>\n",
       "    <tr>\n",
       "      <th>std</th>\n",
       "      <td>0.477998</td>\n",
       "      <td>0.394971</td>\n",
       "      <td>11.888922</td>\n",
       "      <td>0.473972</td>\n",
       "      <td>0.485239</td>\n",
       "      <td>0.501586</td>\n",
       "      <td>4.882538</td>\n",
       "    </tr>\n",
       "    <tr>\n",
       "      <th>min</th>\n",
       "      <td>0.000000</td>\n",
       "      <td>0.000000</td>\n",
       "      <td>18.000000</td>\n",
       "      <td>0.000000</td>\n",
       "      <td>0.000000</td>\n",
       "      <td>0.000000</td>\n",
       "      <td>0.000000</td>\n",
       "    </tr>\n",
       "    <tr>\n",
       "      <th>25%</th>\n",
       "      <td>0.000000</td>\n",
       "      <td>1.000000</td>\n",
       "      <td>25.000000</td>\n",
       "      <td>0.000000</td>\n",
       "      <td>0.000000</td>\n",
       "      <td>0.000000</td>\n",
       "      <td>0.000000</td>\n",
       "    </tr>\n",
       "    <tr>\n",
       "      <th>50%</th>\n",
       "      <td>1.000000</td>\n",
       "      <td>1.000000</td>\n",
       "      <td>31.000000</td>\n",
       "      <td>0.000000</td>\n",
       "      <td>0.000000</td>\n",
       "      <td>0.000000</td>\n",
       "      <td>2.000000</td>\n",
       "    </tr>\n",
       "    <tr>\n",
       "      <th>75%</th>\n",
       "      <td>1.000000</td>\n",
       "      <td>1.000000</td>\n",
       "      <td>42.000000</td>\n",
       "      <td>0.000000</td>\n",
       "      <td>0.000000</td>\n",
       "      <td>0.000000</td>\n",
       "      <td>5.000000</td>\n",
       "    </tr>\n",
       "    <tr>\n",
       "      <th>max</th>\n",
       "      <td>1.000000</td>\n",
       "      <td>1.000000</td>\n",
       "      <td>96.000000</td>\n",
       "      <td>20.000000</td>\n",
       "      <td>13.000000</td>\n",
       "      <td>17.000000</td>\n",
       "      <td>38.000000</td>\n",
       "    </tr>\n",
       "  </tbody>\n",
       "</table>\n",
       "</div>"
      ],
      "text/plain": [
       "            felony         male          age  juv_fel_count  juv_misd_count  \\\n",
       "count  7214.000000  7214.000000  7214.000000    7214.000000     7214.000000   \n",
       "mean      0.646798     0.806626    34.817993       0.067230        0.090934   \n",
       "std       0.477998     0.394971    11.888922       0.473972        0.485239   \n",
       "min       0.000000     0.000000    18.000000       0.000000        0.000000   \n",
       "25%       0.000000     1.000000    25.000000       0.000000        0.000000   \n",
       "50%       1.000000     1.000000    31.000000       0.000000        0.000000   \n",
       "75%       1.000000     1.000000    42.000000       0.000000        0.000000   \n",
       "max       1.000000     1.000000    96.000000      20.000000       13.000000   \n",
       "\n",
       "       juv_other_count  priors_count  \n",
       "count      7214.000000   7214.000000  \n",
       "mean          0.109371      3.472415  \n",
       "std           0.501586      4.882538  \n",
       "min           0.000000      0.000000  \n",
       "25%           0.000000      0.000000  \n",
       "50%           0.000000      2.000000  \n",
       "75%           0.000000      5.000000  \n",
       "max          17.000000     38.000000  "
      ]
     },
     "execution_count": 164,
     "metadata": {},
     "output_type": "execute_result"
    }
   ],
   "source": [
    "# predictors\n",
    "predictors = ['felony',\n",
    "              'male', 'age', \n",
    "              'juv_fel_count','juv_misd_count', 'juv_other_count', 'priors_count']\n",
    "X = df[predictors]\n",
    "X.describe()"
   ]
  },
  {
   "cell_type": "code",
   "execution_count": 165,
   "metadata": {},
   "outputs": [
    {
     "data": {
      "text/plain": [
       "African-American    3696\n",
       "Caucasian           2454\n",
       "Hispanic             637\n",
       "Other                377\n",
       "Asian                 32\n",
       "Native American       18\n",
       "Name: race, dtype: int64"
      ]
     },
     "execution_count": 165,
     "metadata": {},
     "output_type": "execute_result"
    }
   ],
   "source": [
    "df['race'].value_counts()"
   ]
  },
  {
   "cell_type": "code",
   "execution_count": 166,
   "metadata": {},
   "outputs": [
    {
     "data": {
      "text/plain": [
       "count    7214.000000\n",
       "mean        0.659828\n",
       "std         0.473800\n",
       "min         0.000000\n",
       "25%         0.000000\n",
       "50%         1.000000\n",
       "75%         1.000000\n",
       "max         1.000000\n",
       "Name: race, dtype: float64"
      ]
     },
     "execution_count": 166,
     "metadata": {},
     "output_type": "execute_result"
    }
   ],
   "source": [
    "# indicator variable for non-white\n",
    "NW = (df['race'] != 'Caucasian').astype(int)\n",
    "NW.describe()"
   ]
  },
  {
   "cell_type": "markdown",
   "metadata": {},
   "source": [
    "## Assessing Algorithm: Predict Recidivism from Features"
   ]
  },
  {
   "cell_type": "markdown",
   "metadata": {},
   "source": [
    "In the following you will predict recidivism from defendants' features using a nested training/test split so we can get clean test-set predictions for the whole dataset (see the notebook and homework on double machine learning for how to do this - week 6)."
   ]
  },
  {
   "cell_type": "code",
   "execution_count": 167,
   "metadata": {
    "scrolled": true
   },
   "outputs": [],
   "source": [
    "# perform nested train/test split \n",
    "from sklearn.model_selection import train_test_split\n",
    "X_train, X_test, Y_train, Y_test, D_train, D_test,NW_train, NW_test = train_test_split(X, Y, D, NW, test_size = 0.5)\n",
    "\n",
    "df_pred = X_train.append(X_test) \n",
    "#TODO train a logit model to predict recidism (Y) from predictors (X).\n",
    "#TODO form clean test-set predictions for recidivism in the full dataset\n",
    "from sklearn.linear_model import LogisticRegression\n",
    "model = LogisticRegression()\n",
    "model.fit(X_train, Y_train)\n",
    "Y_test_pred = model.predict(X_test)\n",
    "Y_train_pred = model.predict(X_train)"
   ]
  },
  {
   "cell_type": "markdown",
   "metadata": {},
   "source": [
    "Evaluate test set performance."
   ]
  },
  {
   "cell_type": "code",
   "execution_count": 168,
   "metadata": {
    "scrolled": true
   },
   "outputs": [
    {
     "name": "stdout",
     "output_type": "stream",
     "text": [
      "accuracy_score:  0.6581646797892986\n",
      "balanced_accuracy_score:  0.5639855672847859\n",
      "roc_auc_score:  0.5639855672847859\n",
      "[[2094  192]\n",
      " [1041  280]]\n",
      "FP / FN =  0.1844380403458213\n"
     ]
    },
    {
     "data": {
      "text/plain": [
       "0.1844380403458213"
      ]
     },
     "execution_count": 168,
     "metadata": {},
     "output_type": "execute_result"
    },
    {
     "data": {
      "image/png": "[encoded data removed]",
      "text/plain": [
       "<Figure size 640x480 with 2 Axes>"
      ]
     },
     "metadata": {},
     "output_type": "display_data"
    }
   ],
   "source": [
    "#TODO show a confusion matrix, compute accuracy, balanced accuracy, and roc_auc\n",
    "#TODO compute ratio of false positives to false negatives\n",
    "\n",
    "from sklearn.metrics import confusion_matrix, plot_confusion_matrix\n",
    "from sklearn.metrics import classification_report\n",
    "from sklearn.metrics import (precision_score, confusion_matrix, recall_score, f1_score, precision_recall_curve,\n",
    "                             plot_confusion_matrix, accuracy_score, balanced_accuracy_score, roc_curve, auc, roc_auc_score)\n",
    "\n",
    "\n",
    "plot_confusion_matrix(model, X_test, Y_test)\n",
    "\n",
    "def report_stas(Y_test, Y_test_pred):\n",
    "    print(\"accuracy_score: \", accuracy_score(Y_test, Y_test_pred))\n",
    "    print(\"balanced_accuracy_score: \", balanced_accuracy_score(Y_test, Y_test_pred))\n",
    "    print(\"roc_auc_score: \", roc_auc_score(Y_test, Y_test_pred))\n",
    "\n",
    "    cm = confusion_matrix(Y_test, Y_test_pred)\n",
    "    print(cm)\n",
    "    TN = cm[0][0]\n",
    "    FP = cm[0][1]\n",
    "    FN = cm[1][0]\n",
    "    TP = cm[1][1]\n",
    "    print(\"FP / FN = \", FP / FN)\n",
    "\n",
    "    return FP / FN\n",
    "\n",
    "report_stas(Y_test, Y_test_pred)\n"
   ]
  },
  {
   "cell_type": "markdown",
   "metadata": {},
   "source": [
    "### Compare treatment of whites and non-whites for recidivism prediction\n",
    "##### Refer to week 11 for these concepts"
   ]
  },
  {
   "cell_type": "markdown",
   "metadata": {},
   "source": [
    "#### Base Rates"
   ]
  },
  {
   "cell_type": "code",
   "execution_count": 169,
   "metadata": {},
   "outputs": [
    {
     "name": "stdout",
     "output_type": "stream",
     "text": [
      "white_base_rate:  0.3211083944580277\n",
      "non_white_base_rate:  0.38949579831932774\n"
     ]
    }
   ],
   "source": [
    "##TODO Compare base rates for recidivism outcomes of whites and non-whites\n",
    "\n",
    "#df['male'] = (df['sex'] == 'Male').astype(int)\n",
    "#NW = (df['race'] != 'Caucasian').astype(int)\n",
    "#NW.rename(columns={'Not white'})\n",
    "df_race_recid = pd.DataFrame(NW_test)\n",
    "#df.rename(columns={'High':'score_text_high', 'Medium':'score_text_medium', 'Low':'score_text_low'})\n",
    "df_race_recid['recid'] = Y_test\n",
    "df_race_recid['recid_pred'] = Y_test_pred\n",
    "df_race_recid.head()\n",
    "\n",
    "\n",
    "white_recid = len(df_race_recid[(df_race_recid['race']==0) & (df_race_recid['recid']==1)])\n",
    "white_base_rate = white_recid / len(df_race_recid[(df_race_recid['race']==0)]) \n",
    "\n",
    "non_white_recid = len(df_race_recid[(df_race_recid['race']==1) & (df_race_recid['recid']==1)])\n",
    "non_white_base_rate =  non_white_recid / len(df_race_recid[(df_race_recid['race']==1)])\n",
    "\n",
    "print('white_base_rate: ', white_base_rate)\n",
    "print('non_white_base_rate: ', non_white_base_rate)"
   ]
  },
  {
   "cell_type": "markdown",
   "metadata": {},
   "source": [
    "#### Performance"
   ]
  },
  {
   "cell_type": "code",
   "execution_count": 170,
   "metadata": {},
   "outputs": [
    {
     "name": "stdout",
     "output_type": "stream",
     "text": [
      "WHITE\n",
      "accuracy_score:  0.6837815810920945\n",
      "balanced_accuracy_score:  0.5377100078610124\n",
      "roc_auc_score:  0.5377100078610124\n",
      "[[788  45]\n",
      " [343  51]]\n",
      "FP / FN =  0.13119533527696792\n",
      "\n",
      "NON WHITE\n",
      "accuracy_score:  0.6449579831932774\n",
      "balanced_accuracy_score:  0.5729317240452554\n",
      "roc_auc_score:  0.5729317240452555\n",
      "[[1306  147]\n",
      " [ 698  229]]\n",
      "FP / FN =  0.21060171919770773\n"
     ]
    },
    {
     "data": {
      "text/plain": [
       "0.21060171919770773"
      ]
     },
     "execution_count": 170,
     "metadata": {},
     "output_type": "execute_result"
    }
   ],
   "source": [
    "##TODO Produce confusion matrices, classification reports, and ratio of false positives to false negatives, separately for whites and non-whites.\n",
    "print('WHITE')\n",
    "Y_test_white = df_race_recid[df_race_recid['race']==0]['recid']\n",
    "Y_test_pred_white = df_race_recid[df_race_recid['race']==0]['recid_pred']\n",
    "report_stas(Y_test_white, Y_test_pred_white)\n",
    "\n",
    "\n",
    "print('\\nNON WHITE')\n",
    "Y_test_white = df_race_recid[df_race_recid['race']==1]['recid']\n",
    "Y_test_pred_white = df_race_recid[df_race_recid['race']==1]['recid_pred']\n",
    "report_stas(Y_test_white, Y_test_pred_white)"
   ]
  },
  {
   "cell_type": "markdown",
   "metadata": {},
   "source": [
    "**What concepts of \"fairness\" (from class) are (approximately) satisfied by this classifier? Explain.**\n",
    "\n",
    "> Groups fairness is guaranteed if we take \"balanced_accuracy_score\" or \"roc_auc_score\" as a metric. \n",
    "However we can if we consider \"accuracy_score\" or \"FP / FN\" we see group discrimination."
   ]
  },
  {
   "cell_type": "markdown",
   "metadata": {},
   "source": [
    "## Assessing Judges' Decisions: Predict Judge Decision from Features"
   ]
  },
  {
   "cell_type": "markdown",
   "metadata": {},
   "source": [
    "In the following you will predict judges' decisions from defendants' features using a nested training/test split as before. In a second model, include Y-hat from previous section as a predictor."
   ]
  },
  {
   "cell_type": "code",
   "execution_count": 171,
   "metadata": {},
   "outputs": [],
   "source": [
    "#TODO train a logit model to predict judge decision (D) from predictors (X). \n",
    "# perform nested train/test split \n",
    "#X_train, X_test, Y_train, Y_test, D_train, D_test,NW_train, NW_test = train_test_split(X, Y, D, NW, test_size = 0.5)\n",
    "\n",
    "#TODO train a logit model to predict recidism (Y) from predictors (X).\n",
    "#TODO form clean test-set predictions for recidivism in the full dataset\n",
    "#from sklearn.linear_model import LogisticRegression\n",
    "model_D = LogisticRegression()\n",
    "model_D.fit(X_train, D_train)\n",
    "D_test_pred = model_D.predict(X_test)\n",
    "D_train_pred = model_D.predict(X_train)"
   ]
  },
  {
   "cell_type": "code",
   "execution_count": 172,
   "metadata": {
    "scrolled": false
   },
   "outputs": [],
   "source": [
    "#TODO train a logit model to predict judge decision (D) from predictors (X) and predicted recidivism risk (Yhat)\n",
    "#TODO form clean test-set predictions for the decisions in the full dataset\n",
    "X_train['y_pred'] = Y_train_pred\n",
    "X_test['y_pred'] = Y_test_pred\n",
    "Xy = X_train.append(X_test)\n",
    "\n",
    "model_D_with_y = LogisticRegression()\n",
    "model_D_with_y.fit(X_train, D_train)\n",
    "D_test_pred_with_y_pred = model_D_with_y.predict(X_test)\n",
    "D_train_pred_with_y_pred = model_D_with_y.predict(X_train)\n",
    "D_pred_with_y_pred = model_D_with_y.predict(Xy)\n"
   ]
  },
  {
   "cell_type": "markdown",
   "metadata": {},
   "source": [
    "### Compare treatment of whites and non-whites for recidivism prediction"
   ]
  },
  {
   "cell_type": "code",
   "execution_count": 173,
   "metadata": {},
   "outputs": [
    {
     "name": "stdout",
     "output_type": "stream",
     "text": [
      "WHITE wihtout Y_pred\n",
      "accuracy_score:  0.6487367563162184\n",
      "balanced_accuracy_score:  0.564899775528689\n",
      "roc_auc_score:  0.564899775528689\n",
      "[[698  60]\n",
      " [371  98]]\n",
      "FP / FN =  0.16172506738544473\n",
      "\n",
      "WHITE whit Y_pred\n",
      "accuracy_score:  0.6479217603911981\n",
      "balanced_accuracy_score:  0.5674918847151352\n",
      "roc_auc_score:  0.5674918847151352\n",
      "[[689  69]\n",
      " [363 106]]\n",
      "FP / FN =  0.19008264462809918\n",
      "\n",
      "NON WHITE wihtout Y_pred\n",
      "accuracy_score:  0.6197478991596639\n",
      "balanced_accuracy_score:  0.5710084921730265\n",
      "roc_auc_score:  0.5710084921730264\n",
      "[[1176  235]\n",
      " [ 670  299]]\n",
      "FP / FN =  0.35074626865671643\n",
      "\n",
      "NON WHITE whit Y_pred\n",
      "accuracy_score:  0.623109243697479\n",
      "balanced_accuracy_score:  0.5761062827160033\n",
      "roc_auc_score:  0.5761062827160033\n",
      "[[1170  241]\n",
      " [ 656  313]]\n",
      "FP / FN =  0.3673780487804878\n"
     ]
    },
    {
     "data": {
      "text/plain": [
       "0.3673780487804878"
      ]
     },
     "execution_count": 173,
     "metadata": {},
     "output_type": "execute_result"
    }
   ],
   "source": [
    "##TODO Produce confusion matrices, classification reports, and ratio of false positives to false negatives, \n",
    "##TODO separately for whites and non-whites, and with/without including Y-hat as a predictor.\n",
    "\n",
    "df_race_decision = pd.DataFrame(NW_test)\n",
    "df_race_decision['decision'] = D_test\n",
    "df_race_decision['decision_pred'] = D_test_pred\n",
    "df_race_decision['decision_pred_with_y_pred'] = D_test_pred_with_y_pred\n",
    "df_race_decision.head()\n",
    "\n",
    "\n",
    "D_test_white = df_race_decision[df_race_decision['race']==0]['decision']\n",
    "D_test_pred_white = df_race_decision[df_race_decision['race']==0]['decision_pred']\n",
    "D_test_pred_wy_white = df_race_decision[df_race_decision['race']==0]['decision_pred_with_y_pred']\n",
    "print('WHITE wihtout Y_pred')\n",
    "report_stas(D_test_white, D_test_pred_white)\n",
    "print('\\nWHITE whit Y_pred')\n",
    "report_stas(D_test_white, D_test_pred_wy_white)\n",
    "\n",
    "\n",
    "D_test_non_white = df_race_decision[df_race_decision['race']==1]['decision']\n",
    "D_test_pred_non_white = df_race_decision[df_race_decision['race']==1]['decision_pred']\n",
    "D_test_pred_wy_non_white = df_race_decision[df_race_decision['race']==1]['decision_pred_with_y_pred']\n",
    "print('\\nNON WHITE wihtout Y_pred')\n",
    "report_stas(D_test_non_white, D_test_pred_non_white)\n",
    "print('\\nNON WHITE whit Y_pred')\n",
    "report_stas(D_test_non_white, D_test_pred_wy_non_white)"
   ]
  },
  {
   "cell_type": "markdown",
   "metadata": {},
   "source": [
    "In this part you will find the the group-specific thresholds for both models of judges' decision (with/without Yhat) that obtain statistical parity.\n",
    "\n",
    "You can use a custom classifier `threshold` for the decision with this type of code snippet: `decisions = (logit.predict_proba(X) >= threshold).astype(int)`."
   ]
  },
  {
   "cell_type": "markdown",
   "metadata": {},
   "source": [
    "### Enforcing Statistical Parity"
   ]
  },
  {
   "cell_type": "markdown",
   "metadata": {},
   "source": [
    "#### Model without Yhat"
   ]
  },
  {
   "cell_type": "code",
   "execution_count": 174,
   "metadata": {},
   "outputs": [
    {
     "data": {
      "text/plain": [
       "array([[1, 0],\n",
       "       [0, 0],\n",
       "       [0, 0],\n",
       "       ...,\n",
       "       [0, 0],\n",
       "       [1, 0],\n",
       "       [1, 0]])"
      ]
     },
     "execution_count": 174,
     "metadata": {},
     "output_type": "execute_result"
    }
   ],
   "source": [
    "D_pred = (model_D.predict_proba(X) >= 0.6).astype(int)\n",
    "D_pred"
   ]
  },
  {
   "cell_type": "code",
   "execution_count": 175,
   "metadata": {
    "scrolled": true
   },
   "outputs": [
    {
     "name": "stdout",
     "output_type": "stream",
     "text": [
      "The best threshold is  0.24489795918367346 which achieves  0.005499339099943157 % difference in accuracy.\n"
     ]
    }
   ],
   "source": [
    "##Find the largest and lowest thresholds to enforce statistical parity\n",
    "##hint: build a recursive function to find the probability threshold that minimizes \n",
    "## the difference between the predicted outcomes for whites and non whites\n",
    "import numpy as np\n",
    "\n",
    "best_loss = 1000000000000000\n",
    "best_threshold = None\n",
    "\n",
    "for threshold in np.linspace(0, 1, num=50):\n",
    "    D_pred = (model_D.predict_proba(X) >= threshold).astype(int)[:,1]\n",
    "\n",
    "    df_race_decision_calib = pd.DataFrame(NW)\n",
    "    df_race_decision_calib['decision'] = D\n",
    "    df_race_decision_calib['decision_pred'] = D_pred\n",
    "\n",
    "    D_white = df_race_decision_calib[df_race_decision_calib['race']==0]['decision']\n",
    "    D_pred_white = df_race_decision_calib[df_race_decision_calib['race']==0]['decision_pred']\n",
    "    D_non_white = df_race_decision_calib[df_race_decision_calib['race']==1]['decision']\n",
    "    D_pred_non_white = df_race_decision_calib[df_race_decision_calib['race']==1]['decision_pred']\n",
    "    \n",
    "    loss = abs(accuracy_score(D_white, D_pred_white) - accuracy_score(D_non_white, D_pred_non_white))\n",
    "    if loss < best_loss:\n",
    "        best_loss = loss\n",
    "        best_threshold = threshold\n",
    "\n",
    "print(\"The best threshold is \",best_threshold, \"which achieves \", best_loss, \"% difference in accuracy.\")\n",
    "    "
   ]
  },
  {
   "cell_type": "markdown",
   "metadata": {},
   "source": [
    "#### Model with Yhat"
   ]
  },
  {
   "cell_type": "code",
   "execution_count": 176,
   "metadata": {
    "scrolled": true
   },
   "outputs": [
    {
     "name": "stdout",
     "output_type": "stream",
     "text": [
      "The best threshold is  0.0 which achieves  0.014321327553026064 % difference in accuracy.\n"
     ]
    }
   ],
   "source": [
    "##Find the largest and lowest thresholds to enforce statistical parity\n",
    "##hint: build a recursive function to find the probability threshold that minimizes \n",
    "## the difference between the predicted outcomes for whites and non whites\n",
    "\n",
    "best_loss = 1000000000000000\n",
    "best_threshold = None\n",
    "\n",
    "for threshold in np.linspace(0, 1, num=100):\n",
    "    D_pred = (model_D.predict_proba(X) >= threshold).astype(int)[:,1]\n",
    "\n",
    "    df_race_decision_calib = pd.DataFrame(NW)\n",
    "    df_race_decision_calib['decision'] = D\n",
    "    df_race_decision_calib['decision_pred_wy'] = D_pred_with_y_pred\n",
    "\n",
    "    D_white = df_race_decision_calib[df_race_decision_calib['race']==0]['decision']\n",
    "    D_pred_wy_white = df_race_decision_calib[df_race_decision_calib['race']==0]['decision_pred_wy']\n",
    "    D_non_white = df_race_decision_calib[df_race_decision_calib['race']==1]['decision']\n",
    "    D_pred_wy_non_white = df_race_decision_calib[df_race_decision_calib['race']==1]['decision_pred_wy']\n",
    "    \n",
    "    loss = abs(accuracy_score(D_white, D_pred_wy_white) - accuracy_score(D_non_white, D_pred_wy_non_white))\n",
    "    if loss < best_loss:\n",
    "        best_loss = loss\n",
    "        best_threshold = threshold\n",
    "\n",
    "print(\"The best threshold is \",best_threshold, \"which achieves \", best_loss, \"% difference in accuracy.\")"
   ]
  },
  {
   "cell_type": "markdown",
   "metadata": {},
   "source": [
    "# Bonus 1: More Fairness Constraints"
   ]
  },
  {
   "cell_type": "markdown",
   "metadata": {},
   "source": [
    "Find the threshold for both models (with/without Yhat) that obtains error rate balance (equality of recalls for each class."
   ]
  },
  {
   "cell_type": "code",
   "execution_count": 177,
   "metadata": {},
   "outputs": [
    {
     "name": "stdout",
     "output_type": "stream",
     "text": [
      "The best threshold is  0.0 which achieves  0.0 % difference in recall.\n",
      "The best threshold is  0.0 which achieves  0.0 % difference in recall.\n"
     ]
    }
   ],
   "source": [
    "##TODO\n",
    "\n",
    "def calibrate_recall(uncalibrated_model, dataX):\n",
    "    best_loss = 1000000000000000\n",
    "    best_threshold = None\n",
    "\n",
    "    for threshold in np.linspace(0, 1, num=50):\n",
    "        D_pred = (uncalibrated_model.predict_proba(dataX) >= threshold).astype(int)[:,1]\n",
    "\n",
    "        df_race_decision_calib = pd.DataFrame(NW)\n",
    "        df_race_decision_calib['decision'] = D\n",
    "        df_race_decision_calib['decision_pred'] = D_pred\n",
    "\n",
    "        D_white = df_race_decision_calib[df_race_decision_calib['race']==0]['decision']\n",
    "        D_pred_white = df_race_decision_calib[df_race_decision_calib['race']==0]['decision_pred']\n",
    "        D_non_white = df_race_decision_calib[df_race_decision_calib['race']==1]['decision']\n",
    "        D_pred_non_white = df_race_decision_calib[df_race_decision_calib['race']==1]['decision_pred']\n",
    "        \n",
    "        loss = abs(recall_score(D_white, D_pred_white) - recall_score(D_non_white, D_pred_non_white))\n",
    "        if loss < best_loss:\n",
    "            best_loss = loss\n",
    "            best_threshold = threshold\n",
    "\n",
    "    print(\"The best threshold is \",best_threshold, \"which achieves \", best_loss, \"% difference in recall.\")\n",
    "\n",
    "\n",
    "calibrate_recall(model_D, X)\n",
    "calibrate_recall(model_D_with_y, Xy)"
   ]
  },
  {
   "cell_type": "markdown",
   "metadata": {},
   "source": [
    "Find the threshold for both models (with/without Yhat) that obtains predictive parity (equality of precisions for each class)."
   ]
  },
  {
   "cell_type": "code",
   "execution_count": 178,
   "metadata": {},
   "outputs": [
    {
     "name": "stdout",
     "output_type": "stream",
     "text": [
      "The best threshold is  0.9591836734693877 which achieves  0.0 % difference in precision.\n"
     ]
    },
    {
     "name": "stderr",
     "output_type": "stream",
     "text": [
      "/opt/homebrew/Caskroom/miniforge/base/envs/brj/lib/python3.9/site-packages/sklearn/metrics/_classification.py:1334: UndefinedMetricWarning: Precision is ill-defined and being set to 0.0 due to no predicted samples. Use `zero_division` parameter to control this behavior.\n",
      "  _warn_prf(average, modifier, msg_start, len(result))\n",
      "/opt/homebrew/Caskroom/miniforge/base/envs/brj/lib/python3.9/site-packages/sklearn/metrics/_classification.py:1334: UndefinedMetricWarning: Precision is ill-defined and being set to 0.0 due to no predicted samples. Use `zero_division` parameter to control this behavior.\n",
      "  _warn_prf(average, modifier, msg_start, len(result))\n",
      "/opt/homebrew/Caskroom/miniforge/base/envs/brj/lib/python3.9/site-packages/sklearn/metrics/_classification.py:1334: UndefinedMetricWarning: Precision is ill-defined and being set to 0.0 due to no predicted samples. Use `zero_division` parameter to control this behavior.\n",
      "  _warn_prf(average, modifier, msg_start, len(result))\n",
      "/opt/homebrew/Caskroom/miniforge/base/envs/brj/lib/python3.9/site-packages/sklearn/metrics/_classification.py:1334: UndefinedMetricWarning: Precision is ill-defined and being set to 0.0 due to no predicted samples. Use `zero_division` parameter to control this behavior.\n",
      "  _warn_prf(average, modifier, msg_start, len(result))\n",
      "/opt/homebrew/Caskroom/miniforge/base/envs/brj/lib/python3.9/site-packages/sklearn/metrics/_classification.py:1334: UndefinedMetricWarning: Precision is ill-defined and being set to 0.0 due to no predicted samples. Use `zero_division` parameter to control this behavior.\n",
      "  _warn_prf(average, modifier, msg_start, len(result))\n"
     ]
    },
    {
     "name": "stdout",
     "output_type": "stream",
     "text": [
      "The best threshold is  0.9591836734693877 which achieves  0.0 % difference in precision.\n"
     ]
    },
    {
     "name": "stderr",
     "output_type": "stream",
     "text": [
      "/opt/homebrew/Caskroom/miniforge/base/envs/brj/lib/python3.9/site-packages/sklearn/metrics/_classification.py:1334: UndefinedMetricWarning: Precision is ill-defined and being set to 0.0 due to no predicted samples. Use `zero_division` parameter to control this behavior.\n",
      "  _warn_prf(average, modifier, msg_start, len(result))\n",
      "/opt/homebrew/Caskroom/miniforge/base/envs/brj/lib/python3.9/site-packages/sklearn/metrics/_classification.py:1334: UndefinedMetricWarning: Precision is ill-defined and being set to 0.0 due to no predicted samples. Use `zero_division` parameter to control this behavior.\n",
      "  _warn_prf(average, modifier, msg_start, len(result))\n",
      "/opt/homebrew/Caskroom/miniforge/base/envs/brj/lib/python3.9/site-packages/sklearn/metrics/_classification.py:1334: UndefinedMetricWarning: Precision is ill-defined and being set to 0.0 due to no predicted samples. Use `zero_division` parameter to control this behavior.\n",
      "  _warn_prf(average, modifier, msg_start, len(result))\n",
      "/opt/homebrew/Caskroom/miniforge/base/envs/brj/lib/python3.9/site-packages/sklearn/metrics/_classification.py:1334: UndefinedMetricWarning: Precision is ill-defined and being set to 0.0 due to no predicted samples. Use `zero_division` parameter to control this behavior.\n",
      "  _warn_prf(average, modifier, msg_start, len(result))\n",
      "/opt/homebrew/Caskroom/miniforge/base/envs/brj/lib/python3.9/site-packages/sklearn/metrics/_classification.py:1334: UndefinedMetricWarning: Precision is ill-defined and being set to 0.0 due to no predicted samples. Use `zero_division` parameter to control this behavior.\n",
      "  _warn_prf(average, modifier, msg_start, len(result))\n"
     ]
    }
   ],
   "source": [
    "##TODO\n",
    "def calibrate_precision(uncalibrated_model, dataX):\n",
    "    best_loss = 1000000000000000\n",
    "    best_threshold = None\n",
    "\n",
    "    for threshold in np.linspace(0, 1, num=50):\n",
    "        D_pred = (uncalibrated_model.predict_proba(dataX) >= threshold).astype(int)[:,1]\n",
    "\n",
    "        df_race_decision_calib = pd.DataFrame(NW)\n",
    "        df_race_decision_calib['decision'] = D\n",
    "        df_race_decision_calib['decision_pred'] = D_pred\n",
    "\n",
    "        D_white = df_race_decision_calib[df_race_decision_calib['race']==0]['decision']\n",
    "        D_pred_white = df_race_decision_calib[df_race_decision_calib['race']==0]['decision_pred']\n",
    "        D_non_white = df_race_decision_calib[df_race_decision_calib['race']==1]['decision']\n",
    "        D_pred_non_white = df_race_decision_calib[df_race_decision_calib['race']==1]['decision_pred']\n",
    "        \n",
    "        loss = abs(precision_score(D_white, D_pred_white) - precision_score(D_non_white, D_pred_non_white))\n",
    "        if loss < best_loss:\n",
    "            best_loss = loss\n",
    "            best_threshold = threshold\n",
    "\n",
    "    print(\"The best threshold is \",best_threshold, \"which achieves \", best_loss, \"% difference in precision.\")\n",
    "\n",
    "\n",
    "calibrate_precision(model_D, X)\n",
    "calibrate_precision(model_D_with_y, Xy)"
   ]
  },
  {
   "cell_type": "markdown",
   "metadata": {},
   "source": [
    "Find the threshold for both models (with/without Yhat) that obtains treatment equality (ratio of false positives to false negatives)."
   ]
  },
  {
   "cell_type": "code",
   "execution_count": 179,
   "metadata": {
    "scrolled": true
   },
   "outputs": [
    {
     "name": "stderr",
     "output_type": "stream",
     "text": [
      "/var/folders/4l/50kz2_m54d53hffxvvphv1lr0000gn/T/ipykernel_63570/1064066095.py:10: RuntimeWarning: divide by zero encountered in long_scalars\n",
      "  return FP / FN\n",
      "/var/folders/4l/50kz2_m54d53hffxvvphv1lr0000gn/T/ipykernel_63570/1064066095.py:10: RuntimeWarning: divide by zero encountered in long_scalars\n",
      "  return FP / FN\n",
      "/var/folders/4l/50kz2_m54d53hffxvvphv1lr0000gn/T/ipykernel_63570/1064066095.py:28: RuntimeWarning: invalid value encountered in double_scalars\n",
      "  loss = abs(FPFN(D_white, D_pred_white) - FPFN(D_non_white, D_pred_non_white))\n",
      "/var/folders/4l/50kz2_m54d53hffxvvphv1lr0000gn/T/ipykernel_63570/1064066095.py:10: RuntimeWarning: divide by zero encountered in long_scalars\n",
      "  return FP / FN\n",
      "/var/folders/4l/50kz2_m54d53hffxvvphv1lr0000gn/T/ipykernel_63570/1064066095.py:10: RuntimeWarning: divide by zero encountered in long_scalars\n",
      "  return FP / FN\n",
      "/var/folders/4l/50kz2_m54d53hffxvvphv1lr0000gn/T/ipykernel_63570/1064066095.py:28: RuntimeWarning: invalid value encountered in double_scalars\n",
      "  loss = abs(FPFN(D_white, D_pred_white) - FPFN(D_non_white, D_pred_non_white))\n",
      "/var/folders/4l/50kz2_m54d53hffxvvphv1lr0000gn/T/ipykernel_63570/1064066095.py:10: RuntimeWarning: divide by zero encountered in long_scalars\n",
      "  return FP / FN\n",
      "/var/folders/4l/50kz2_m54d53hffxvvphv1lr0000gn/T/ipykernel_63570/1064066095.py:10: RuntimeWarning: divide by zero encountered in long_scalars\n",
      "  return FP / FN\n",
      "/var/folders/4l/50kz2_m54d53hffxvvphv1lr0000gn/T/ipykernel_63570/1064066095.py:28: RuntimeWarning: invalid value encountered in double_scalars\n",
      "  loss = abs(FPFN(D_white, D_pred_white) - FPFN(D_non_white, D_pred_non_white))\n",
      "/var/folders/4l/50kz2_m54d53hffxvvphv1lr0000gn/T/ipykernel_63570/1064066095.py:10: RuntimeWarning: divide by zero encountered in long_scalars\n",
      "  return FP / FN\n",
      "/var/folders/4l/50kz2_m54d53hffxvvphv1lr0000gn/T/ipykernel_63570/1064066095.py:10: RuntimeWarning: divide by zero encountered in long_scalars\n",
      "  return FP / FN\n",
      "/var/folders/4l/50kz2_m54d53hffxvvphv1lr0000gn/T/ipykernel_63570/1064066095.py:28: RuntimeWarning: invalid value encountered in double_scalars\n",
      "  loss = abs(FPFN(D_white, D_pred_white) - FPFN(D_non_white, D_pred_non_white))\n",
      "/var/folders/4l/50kz2_m54d53hffxvvphv1lr0000gn/T/ipykernel_63570/1064066095.py:10: RuntimeWarning: divide by zero encountered in long_scalars\n",
      "  return FP / FN\n",
      "/var/folders/4l/50kz2_m54d53hffxvvphv1lr0000gn/T/ipykernel_63570/1064066095.py:10: RuntimeWarning: divide by zero encountered in long_scalars\n",
      "  return FP / FN\n",
      "/var/folders/4l/50kz2_m54d53hffxvvphv1lr0000gn/T/ipykernel_63570/1064066095.py:28: RuntimeWarning: invalid value encountered in double_scalars\n",
      "  loss = abs(FPFN(D_white, D_pred_white) - FPFN(D_non_white, D_pred_non_white))\n",
      "/var/folders/4l/50kz2_m54d53hffxvvphv1lr0000gn/T/ipykernel_63570/1064066095.py:10: RuntimeWarning: divide by zero encountered in long_scalars\n",
      "  return FP / FN\n",
      "/var/folders/4l/50kz2_m54d53hffxvvphv1lr0000gn/T/ipykernel_63570/1064066095.py:10: RuntimeWarning: divide by zero encountered in long_scalars\n",
      "  return FP / FN\n",
      "/var/folders/4l/50kz2_m54d53hffxvvphv1lr0000gn/T/ipykernel_63570/1064066095.py:28: RuntimeWarning: invalid value encountered in double_scalars\n",
      "  loss = abs(FPFN(D_white, D_pred_white) - FPFN(D_non_white, D_pred_non_white))\n",
      "/var/folders/4l/50kz2_m54d53hffxvvphv1lr0000gn/T/ipykernel_63570/1064066095.py:10: RuntimeWarning: divide by zero encountered in long_scalars\n",
      "  return FP / FN\n",
      "/var/folders/4l/50kz2_m54d53hffxvvphv1lr0000gn/T/ipykernel_63570/1064066095.py:10: RuntimeWarning: divide by zero encountered in long_scalars\n",
      "  return FP / FN\n",
      "/var/folders/4l/50kz2_m54d53hffxvvphv1lr0000gn/T/ipykernel_63570/1064066095.py:28: RuntimeWarning: invalid value encountered in double_scalars\n",
      "  loss = abs(FPFN(D_white, D_pred_white) - FPFN(D_non_white, D_pred_non_white))\n",
      "/var/folders/4l/50kz2_m54d53hffxvvphv1lr0000gn/T/ipykernel_63570/1064066095.py:10: RuntimeWarning: divide by zero encountered in long_scalars\n",
      "  return FP / FN\n",
      "/var/folders/4l/50kz2_m54d53hffxvvphv1lr0000gn/T/ipykernel_63570/1064066095.py:10: RuntimeWarning: divide by zero encountered in long_scalars\n",
      "  return FP / FN\n",
      "/var/folders/4l/50kz2_m54d53hffxvvphv1lr0000gn/T/ipykernel_63570/1064066095.py:28: RuntimeWarning: invalid value encountered in double_scalars\n",
      "  loss = abs(FPFN(D_white, D_pred_white) - FPFN(D_non_white, D_pred_non_white))\n",
      "/var/folders/4l/50kz2_m54d53hffxvvphv1lr0000gn/T/ipykernel_63570/1064066095.py:10: RuntimeWarning: divide by zero encountered in long_scalars\n",
      "  return FP / FN\n",
      "/var/folders/4l/50kz2_m54d53hffxvvphv1lr0000gn/T/ipykernel_63570/1064066095.py:10: RuntimeWarning: divide by zero encountered in long_scalars\n",
      "  return FP / FN\n",
      "/var/folders/4l/50kz2_m54d53hffxvvphv1lr0000gn/T/ipykernel_63570/1064066095.py:28: RuntimeWarning: invalid value encountered in double_scalars\n",
      "  loss = abs(FPFN(D_white, D_pred_white) - FPFN(D_non_white, D_pred_non_white))\n",
      "/var/folders/4l/50kz2_m54d53hffxvvphv1lr0000gn/T/ipykernel_63570/1064066095.py:10: RuntimeWarning: divide by zero encountered in long_scalars\n",
      "  return FP / FN\n",
      "/var/folders/4l/50kz2_m54d53hffxvvphv1lr0000gn/T/ipykernel_63570/1064066095.py:10: RuntimeWarning: divide by zero encountered in long_scalars\n",
      "  return FP / FN\n",
      "/var/folders/4l/50kz2_m54d53hffxvvphv1lr0000gn/T/ipykernel_63570/1064066095.py:28: RuntimeWarning: invalid value encountered in double_scalars\n",
      "  loss = abs(FPFN(D_white, D_pred_white) - FPFN(D_non_white, D_pred_non_white))\n",
      "/var/folders/4l/50kz2_m54d53hffxvvphv1lr0000gn/T/ipykernel_63570/1064066095.py:10: RuntimeWarning: divide by zero encountered in long_scalars\n",
      "  return FP / FN\n",
      "/var/folders/4l/50kz2_m54d53hffxvvphv1lr0000gn/T/ipykernel_63570/1064066095.py:10: RuntimeWarning: divide by zero encountered in long_scalars\n",
      "  return FP / FN\n",
      "/var/folders/4l/50kz2_m54d53hffxvvphv1lr0000gn/T/ipykernel_63570/1064066095.py:28: RuntimeWarning: invalid value encountered in double_scalars\n",
      "  loss = abs(FPFN(D_white, D_pred_white) - FPFN(D_non_white, D_pred_non_white))\n",
      "/var/folders/4l/50kz2_m54d53hffxvvphv1lr0000gn/T/ipykernel_63570/1064066095.py:10: RuntimeWarning: divide by zero encountered in long_scalars\n",
      "  return FP / FN\n",
      "/var/folders/4l/50kz2_m54d53hffxvvphv1lr0000gn/T/ipykernel_63570/1064066095.py:10: RuntimeWarning: divide by zero encountered in long_scalars\n",
      "  return FP / FN\n",
      "/var/folders/4l/50kz2_m54d53hffxvvphv1lr0000gn/T/ipykernel_63570/1064066095.py:28: RuntimeWarning: invalid value encountered in double_scalars\n",
      "  loss = abs(FPFN(D_white, D_pred_white) - FPFN(D_non_white, D_pred_non_white))\n",
      "/var/folders/4l/50kz2_m54d53hffxvvphv1lr0000gn/T/ipykernel_63570/1064066095.py:10: RuntimeWarning: divide by zero encountered in long_scalars\n",
      "  return FP / FN\n",
      "/var/folders/4l/50kz2_m54d53hffxvvphv1lr0000gn/T/ipykernel_63570/1064066095.py:10: RuntimeWarning: divide by zero encountered in long_scalars\n",
      "  return FP / FN\n",
      "/var/folders/4l/50kz2_m54d53hffxvvphv1lr0000gn/T/ipykernel_63570/1064066095.py:28: RuntimeWarning: invalid value encountered in double_scalars\n",
      "  loss = abs(FPFN(D_white, D_pred_white) - FPFN(D_non_white, D_pred_non_white))\n",
      "/var/folders/4l/50kz2_m54d53hffxvvphv1lr0000gn/T/ipykernel_63570/1064066095.py:10: RuntimeWarning: divide by zero encountered in long_scalars\n",
      "  return FP / FN\n",
      "/var/folders/4l/50kz2_m54d53hffxvvphv1lr0000gn/T/ipykernel_63570/1064066095.py:10: RuntimeWarning: divide by zero encountered in long_scalars\n",
      "  return FP / FN\n",
      "/var/folders/4l/50kz2_m54d53hffxvvphv1lr0000gn/T/ipykernel_63570/1064066095.py:28: RuntimeWarning: invalid value encountered in double_scalars\n",
      "  loss = abs(FPFN(D_white, D_pred_white) - FPFN(D_non_white, D_pred_non_white))\n",
      "/var/folders/4l/50kz2_m54d53hffxvvphv1lr0000gn/T/ipykernel_63570/1064066095.py:10: RuntimeWarning: divide by zero encountered in long_scalars\n",
      "  return FP / FN\n",
      "/var/folders/4l/50kz2_m54d53hffxvvphv1lr0000gn/T/ipykernel_63570/1064066095.py:10: RuntimeWarning: divide by zero encountered in long_scalars\n",
      "  return FP / FN\n",
      "/var/folders/4l/50kz2_m54d53hffxvvphv1lr0000gn/T/ipykernel_63570/1064066095.py:28: RuntimeWarning: invalid value encountered in double_scalars\n",
      "  loss = abs(FPFN(D_white, D_pred_white) - FPFN(D_non_white, D_pred_non_white))\n",
      "/var/folders/4l/50kz2_m54d53hffxvvphv1lr0000gn/T/ipykernel_63570/1064066095.py:10: RuntimeWarning: divide by zero encountered in long_scalars\n",
      "  return FP / FN\n",
      "/var/folders/4l/50kz2_m54d53hffxvvphv1lr0000gn/T/ipykernel_63570/1064066095.py:10: RuntimeWarning: divide by zero encountered in long_scalars\n",
      "  return FP / FN\n",
      "/var/folders/4l/50kz2_m54d53hffxvvphv1lr0000gn/T/ipykernel_63570/1064066095.py:28: RuntimeWarning: invalid value encountered in double_scalars\n",
      "  loss = abs(FPFN(D_white, D_pred_white) - FPFN(D_non_white, D_pred_non_white))\n",
      "/var/folders/4l/50kz2_m54d53hffxvvphv1lr0000gn/T/ipykernel_63570/1064066095.py:10: RuntimeWarning: divide by zero encountered in long_scalars\n",
      "  return FP / FN\n",
      "/var/folders/4l/50kz2_m54d53hffxvvphv1lr0000gn/T/ipykernel_63570/1064066095.py:10: RuntimeWarning: divide by zero encountered in long_scalars\n",
      "  return FP / FN\n",
      "/var/folders/4l/50kz2_m54d53hffxvvphv1lr0000gn/T/ipykernel_63570/1064066095.py:28: RuntimeWarning: invalid value encountered in double_scalars\n",
      "  loss = abs(FPFN(D_white, D_pred_white) - FPFN(D_non_white, D_pred_non_white))\n",
      "/var/folders/4l/50kz2_m54d53hffxvvphv1lr0000gn/T/ipykernel_63570/1064066095.py:10: RuntimeWarning: divide by zero encountered in long_scalars\n",
      "  return FP / FN\n",
      "/var/folders/4l/50kz2_m54d53hffxvvphv1lr0000gn/T/ipykernel_63570/1064066095.py:10: RuntimeWarning: divide by zero encountered in long_scalars\n",
      "  return FP / FN\n",
      "/var/folders/4l/50kz2_m54d53hffxvvphv1lr0000gn/T/ipykernel_63570/1064066095.py:28: RuntimeWarning: invalid value encountered in double_scalars\n",
      "  loss = abs(FPFN(D_white, D_pred_white) - FPFN(D_non_white, D_pred_non_white))\n",
      "/var/folders/4l/50kz2_m54d53hffxvvphv1lr0000gn/T/ipykernel_63570/1064066095.py:10: RuntimeWarning: divide by zero encountered in long_scalars\n",
      "  return FP / FN\n",
      "/var/folders/4l/50kz2_m54d53hffxvvphv1lr0000gn/T/ipykernel_63570/1064066095.py:10: RuntimeWarning: divide by zero encountered in long_scalars\n",
      "  return FP / FN\n",
      "/var/folders/4l/50kz2_m54d53hffxvvphv1lr0000gn/T/ipykernel_63570/1064066095.py:28: RuntimeWarning: invalid value encountered in double_scalars\n",
      "  loss = abs(FPFN(D_white, D_pred_white) - FPFN(D_non_white, D_pred_non_white))\n",
      "/var/folders/4l/50kz2_m54d53hffxvvphv1lr0000gn/T/ipykernel_63570/1064066095.py:10: RuntimeWarning: divide by zero encountered in long_scalars\n",
      "  return FP / FN\n"
     ]
    },
    {
     "name": "stdout",
     "output_type": "stream",
     "text": [
      "The best threshold is  0.9795918367346939 which achieves  0.0 % difference in ratio of false positives to false negatives.\n",
      "The best threshold is  0.9795918367346939 which achieves  0.0 % difference in ratio of false positives to false negatives.\n"
     ]
    }
   ],
   "source": [
    "##TODO\n",
    "\n",
    "\n",
    "def FPFN(Y, Y_pred):\n",
    "    cm = confusion_matrix(Y, Y_pred)\n",
    "    TN = cm[0][0]\n",
    "    FP = cm[0][1]\n",
    "    FN = cm[1][0]\n",
    "    TP = cm[1][1]\n",
    "    return FP / FN\n",
    "\n",
    "def calibrate_FPFN(uncalibrated_model, dataX):\n",
    "    best_loss = 1000000000000000\n",
    "    best_threshold = None\n",
    "\n",
    "    for threshold in np.linspace(0, 1, num=50):\n",
    "        D_pred = (uncalibrated_model.predict_proba(dataX) >= threshold).astype(int)[:,1]\n",
    "\n",
    "        df_race_decision_calib = pd.DataFrame(NW)\n",
    "        df_race_decision_calib['decision'] = D\n",
    "        df_race_decision_calib['decision_pred'] = D_pred\n",
    "\n",
    "        D_white = df_race_decision_calib[df_race_decision_calib['race']==0]['decision']\n",
    "        D_pred_white = df_race_decision_calib[df_race_decision_calib['race']==0]['decision_pred']\n",
    "        D_non_white = df_race_decision_calib[df_race_decision_calib['race']==1]['decision']\n",
    "        D_pred_non_white = df_race_decision_calib[df_race_decision_calib['race']==1]['decision_pred']\n",
    "        \n",
    "        loss = abs(FPFN(D_white, D_pred_white) - FPFN(D_non_white, D_pred_non_white))\n",
    "        if loss < best_loss:\n",
    "            best_loss = loss\n",
    "            best_threshold = threshold\n",
    "\n",
    "    print(\"The best threshold is \",best_threshold, \"which achieves \", best_loss, \"% difference in ratio of false positives to false negatives.\")\n",
    "\n",
    "\n",
    "calibrate_FPFN(model_D, X)\n",
    "calibrate_FPFN(model_D_with_y, Xy)"
   ]
  },
  {
   "cell_type": "markdown",
   "metadata": {},
   "source": [
    "Note 1: the threshold at 0 for calibrating the recall is trivially right but clearly unfair.\n",
    "\n",
    "Note 2: These experiments shows how it's hvery hard to impossible to calibrate for several different fairness metric   "
   ]
  },
  {
   "cell_type": "markdown",
   "metadata": {},
   "source": [
    "# Bonus 2: Pre-Processing for Fairness"
   ]
  },
  {
   "cell_type": "markdown",
   "metadata": {},
   "source": [
    "Regress all predictors in `X` on the protected attribute `A` and produce residuals `Xtilde`. Re-do the prediction task above (predicting judges' decision) and discuss how it changes the fairness metrics."
   ]
  },
  {
   "cell_type": "code",
   "execution_count": 180,
   "metadata": {},
   "outputs": [],
   "source": [
    "##TODO"
   ]
  }
 ],
 "metadata": {
  "kernelspec": {
   "display_name": "Python 3.9.13 ('brj')",
   "language": "python",
   "name": "python3"
  },
  "language_info": {
   "codemirror_mode": {
    "name": "ipython",
    "version": 3
   },
   "file_extension": ".py",
   "mimetype": "text/x-python",
   "name": "python",
   "nbconvert_exporter": "python",
   "pygments_lexer": "ipython3",
   "version": "3.9.13"
  },
  "vscode": {
   "interpreter": {
    "hash": "dfffd512b5389e9d3dcf7625ef773f2ceb18044b61b4057c9b3522de66270c4b"
   }
  }
 },
 "nbformat": 4,
 "nbformat_minor": 4
}
