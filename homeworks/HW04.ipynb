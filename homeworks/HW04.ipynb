{
 "cells": [
  {
   "cell_type": "markdown",
   "metadata": {},
   "source": [
    "# HW04: RDD and Diff-in-Diff (due 26th October)\n",
    "\n",
    "**You will have to solve only one of the two parts (either the RDD or the DiD) to get full credit for this homework.**\n",
    "\n",
    "In this homework you will investigate the causal effect in two different settings, applying different **identification strategies**, You will also reflect and investigate the identification assumptions that allow for a causal interpretation. "
   ]
  },
  {
   "cell_type": "markdown",
   "metadata": {},
   "source": [
    "## Regression Discontinuity Design\n",
    "\n",
    "In this first part you will use data on mayors from municipalities in Brazil to invesitgate th effect of electoral accountability on corruption. The goal is to estimate the effect of being eligible for reelection (having reelection incentives) on misappropriation of resources exploiting random audits on municipalities before the elections. In Brazil there is a two mandate limit for mayors, implying that only mayors in the first mandate can be reelected. The reference paper is [Ferraz and Finan (2011)](https://www.aeaweb.org/articles?id=10.1257/aer.101.4.1274)."
   ]
  },
  {
   "cell_type": "code",
   "execution_count": 3,
   "metadata": {},
   "outputs": [],
   "source": [
    "from rdrobust import rdrobust, rdbwselect, rdplot\n",
    "import pandas as pd \n",
    "import warnings\n",
    "warnings.filterwarnings('ignore', category=FutureWarning)\n",
    "warnings.filterwarnings('ignore', category=DeprecationWarning)\n",
    "warnings.filterwarnings = lambda *a, **kw: None\n"
   ]
  },
  {
   "cell_type": "code",
   "execution_count": 4,
   "metadata": {},
   "outputs": [
    {
     "name": "stderr",
     "output_type": "stream",
     "text": [
      "/var/folders/4l/50kz2_m54d53hffxvvphv1lr0000gn/T/ipykernel_62412/2619628620.py:1: UnicodeWarning: \n",
      "One or more strings in the dta file could not be decoded using utf-8, and\n",
      "so the fallback encoding of latin-1 is being used.  This can happen when a file\n",
      "has been incorrectly encoded by Stata or some other software. You should verify\n",
      "the string values returned are correct.\n"
     ]
    }
   ],
   "source": [
    "df = pd.read_stata('data/HW04_data_rdd.dta')"
   ]
  },
  {
   "cell_type": "code",
   "execution_count": 5,
   "metadata": {},
   "outputs": [
    {
     "name": "stderr",
     "output_type": "stream",
     "text": [
      "/var/folders/4l/50kz2_m54d53hffxvvphv1lr0000gn/T/ipykernel_62412/1581965592.py:1: UnicodeWarning: \n",
      "One or more strings in the dta file could not be decoded using utf-8, and\n",
      "so the fallback encoding of latin-1 is being used.  This can happen when a file\n",
      "has been incorrectly encoded by Stata or some other software. You should verify\n",
      "the string values returned are correct.\n"
     ]
    },
    {
     "data": {
      "text/plain": [
       "{'uf': 'state',\n",
       " 'nsorteio': 'Número do sorteio',\n",
       " 'totrecursos': 'Total de recurso fiscalizado no municipio',\n",
       " 'tot_os': 'Total de OS fiscalizadas no municipio',\n",
       " 'pop': 'População no ano de 2000',\n",
       " 'purb': 'Proporção da população urbana no ano de 2000',\n",
       " 'p_secundario': 'Proporção da população com 18 anos ou mais com secundario completo',\n",
       " 'cod_ibge6': 'cod_ibge6',\n",
       " 'pib_capita_02': 'PIB per capita deflacionado em reais de 2001',\n",
       " 'op_01_04': 'Dummy se o munic teve orçamento participativo no periodo',\n",
       " 'reeleito': 'Dummy de reeleição',\n",
       " 'ENEP2000': '2000 ENEP',\n",
       " 'ENLP2000': '2000 ENLP',\n",
       " 'pref_idade_tse': 'Idade do prefeito',\n",
       " 'comarca': 'Sede de Comarca',\n",
       " 'reeleito_2004': 'Dummy dos candidatos que se reelegeram na eleição de 2004',\n",
       " 'p_cad_pref': 'Proporção de vereadores eleitos do mesmo partido do prefeito',\n",
       " 'rec_transf_correntes': '(mean) rec_transf_correntes',\n",
       " 'gini_ipea': '',\n",
       " 'fiscalizacoes': 'Total ordens de serviço dada pela planilha CGU',\n",
       " 'valor_fiscalizado': 'Total ordens de serviço dada pela planilha CGU',\n",
       " 'incumbent': '(sum) incumbent',\n",
       " 'vereador9600': '',\n",
       " 'pmismanagement': '',\n",
       " 'elected1': '',\n",
       " 'first': '',\n",
       " 'lpib02': '',\n",
       " 'lpop': '',\n",
       " 'pref_masc': '',\n",
       " 'pref_escola': '',\n",
       " 'media2': '',\n",
       " 'vereador_eleit': '',\n",
       " 'mun_novo': '',\n",
       " 'exp_prefeito': '',\n",
       " 'samepartygov98': '',\n",
       " 'lrec_trans': '',\n",
       " 'lfunc_ativ': '',\n",
       " 'lrec_fisc': '',\n",
       " 'ncorrupt': '',\n",
       " 'valor_corrupt': '',\n",
       " 'pcorrupt': '',\n",
       " 'dcorrupt': '',\n",
       " 'esample2': '',\n",
       " 'wm': 'vote margin',\n",
       " 'winning_margin': 'running variable',\n",
       " 'party': 'party affiliation'}"
      ]
     },
     "execution_count": 5,
     "metadata": {},
     "output_type": "execute_result"
    }
   ],
   "source": [
    "df_labels = pd.read_stata('data/HW04_data_rdd.dta', iterator=True).variable_labels()\n",
    "df_labels"
   ]
  },
  {
   "cell_type": "code",
   "execution_count": 6,
   "metadata": {
    "scrolled": true
   },
   "outputs": [
    {
     "data": {
      "text/html": [
       "<div>\n",
       "<style scoped>\n",
       "    .dataframe tbody tr th:only-of-type {\n",
       "        vertical-align: middle;\n",
       "    }\n",
       "\n",
       "    .dataframe tbody tr th {\n",
       "        vertical-align: top;\n",
       "    }\n",
       "\n",
       "    .dataframe thead th {\n",
       "        text-align: right;\n",
       "    }\n",
       "</style>\n",
       "<table border=\"1\" class=\"dataframe\">\n",
       "  <thead>\n",
       "    <tr style=\"text-align: right;\">\n",
       "      <th></th>\n",
       "      <th>uf</th>\n",
       "      <th>nsorteio</th>\n",
       "      <th>totrecursos</th>\n",
       "      <th>tot_os</th>\n",
       "      <th>pop</th>\n",
       "      <th>purb</th>\n",
       "      <th>p_secundario</th>\n",
       "      <th>cod_ibge6</th>\n",
       "      <th>pib_capita_02</th>\n",
       "      <th>op_01_04</th>\n",
       "      <th>...</th>\n",
       "      <th>lfunc_ativ</th>\n",
       "      <th>lrec_fisc</th>\n",
       "      <th>ncorrupt</th>\n",
       "      <th>valor_corrupt</th>\n",
       "      <th>pcorrupt</th>\n",
       "      <th>dcorrupt</th>\n",
       "      <th>esample2</th>\n",
       "      <th>wm</th>\n",
       "      <th>winning_margin</th>\n",
       "      <th>party</th>\n",
       "    </tr>\n",
       "  </thead>\n",
       "  <tbody>\n",
       "    <tr>\n",
       "      <th>0</th>\n",
       "      <td>RO</td>\n",
       "      <td>5</td>\n",
       "      <td>6913597.38</td>\n",
       "      <td>47.0</td>\n",
       "      <td>18207</td>\n",
       "      <td>0.815401</td>\n",
       "      <td>0.248250</td>\n",
       "      <td>566128.0</td>\n",
       "      <td>3548.000977</td>\n",
       "      <td>0</td>\n",
       "      <td>...</td>\n",
       "      <td>6.167517</td>\n",
       "      <td>15.749001</td>\n",
       "      <td>3.0</td>\n",
       "      <td>672785.125</td>\n",
       "      <td>0.097313</td>\n",
       "      <td>1.0</td>\n",
       "      <td>1.0</td>\n",
       "      <td>0.030935</td>\n",
       "      <td>-0.030935</td>\n",
       "      <td>16</td>\n",
       "    </tr>\n",
       "    <tr>\n",
       "      <th>1</th>\n",
       "      <td>RO</td>\n",
       "      <td>7</td>\n",
       "      <td>7135210.78</td>\n",
       "      <td>62.0</td>\n",
       "      <td>10459</td>\n",
       "      <td>0.198203</td>\n",
       "      <td>0.110925</td>\n",
       "      <td>566130.0</td>\n",
       "      <td>4203.421875</td>\n",
       "      <td>0</td>\n",
       "      <td>...</td>\n",
       "      <td>5.641907</td>\n",
       "      <td>15.780552</td>\n",
       "      <td>0.0</td>\n",
       "      <td>0.000</td>\n",
       "      <td>0.000000</td>\n",
       "      <td>0.0</td>\n",
       "      <td>1.0</td>\n",
       "      <td>0.172863</td>\n",
       "      <td>0.172863</td>\n",
       "      <td>3</td>\n",
       "    </tr>\n",
       "    <tr>\n",
       "      <th>2</th>\n",
       "      <td>RO</td>\n",
       "      <td>2</td>\n",
       "      <td>26821074.06</td>\n",
       "      <td>140.0</td>\n",
       "      <td>40884</td>\n",
       "      <td>0.649178</td>\n",
       "      <td>0.254702</td>\n",
       "      <td>566138.0</td>\n",
       "      <td>3904.267334</td>\n",
       "      <td>0</td>\n",
       "      <td>...</td>\n",
       "      <td>6.872128</td>\n",
       "      <td>17.104698</td>\n",
       "      <td>1.0</td>\n",
       "      <td>0.000</td>\n",
       "      <td>0.000000</td>\n",
       "      <td>1.0</td>\n",
       "      <td>1.0</td>\n",
       "      <td>0.310956</td>\n",
       "      <td>0.310956</td>\n",
       "      <td>18</td>\n",
       "    </tr>\n",
       "    <tr>\n",
       "      <th>3</th>\n",
       "      <td>RO</td>\n",
       "      <td>4</td>\n",
       "      <td>14710780.70</td>\n",
       "      <td>89.0</td>\n",
       "      <td>47382</td>\n",
       "      <td>0.726457</td>\n",
       "      <td>0.267212</td>\n",
       "      <td>566151.0</td>\n",
       "      <td>4081.257812</td>\n",
       "      <td>0</td>\n",
       "      <td>...</td>\n",
       "      <td>6.979145</td>\n",
       "      <td>16.504091</td>\n",
       "      <td>0.0</td>\n",
       "      <td>0.000</td>\n",
       "      <td>0.000000</td>\n",
       "      <td>0.0</td>\n",
       "      <td>1.0</td>\n",
       "      <td>0.391912</td>\n",
       "      <td>0.391912</td>\n",
       "      <td>18</td>\n",
       "    </tr>\n",
       "    <tr>\n",
       "      <th>4</th>\n",
       "      <td>RO</td>\n",
       "      <td>3</td>\n",
       "      <td>4181534.83</td>\n",
       "      <td>NaN</td>\n",
       "      <td>23874</td>\n",
       "      <td>0.271257</td>\n",
       "      <td>0.134546</td>\n",
       "      <td>566155.0</td>\n",
       "      <td>2192.473633</td>\n",
       "      <td>1</td>\n",
       "      <td>...</td>\n",
       "      <td>6.118097</td>\n",
       "      <td>15.246189</td>\n",
       "      <td>0.0</td>\n",
       "      <td>0.000</td>\n",
       "      <td>0.000000</td>\n",
       "      <td>0.0</td>\n",
       "      <td>1.0</td>\n",
       "      <td>0.186155</td>\n",
       "      <td>0.186155</td>\n",
       "      <td>14</td>\n",
       "    </tr>\n",
       "  </tbody>\n",
       "</table>\n",
       "<p>5 rows × 46 columns</p>\n",
       "</div>"
      ],
      "text/plain": [
       "   uf  nsorteio  totrecursos  tot_os    pop      purb  p_secundario  \\\n",
       "0  RO         5   6913597.38    47.0  18207  0.815401      0.248250   \n",
       "1  RO         7   7135210.78    62.0  10459  0.198203      0.110925   \n",
       "2  RO         2  26821074.06   140.0  40884  0.649178      0.254702   \n",
       "3  RO         4  14710780.70    89.0  47382  0.726457      0.267212   \n",
       "4  RO         3   4181534.83     NaN  23874  0.271257      0.134546   \n",
       "\n",
       "   cod_ibge6  pib_capita_02  op_01_04  ...  lfunc_ativ  lrec_fisc  ncorrupt  \\\n",
       "0   566128.0    3548.000977         0  ...    6.167517  15.749001       3.0   \n",
       "1   566130.0    4203.421875         0  ...    5.641907  15.780552       0.0   \n",
       "2   566138.0    3904.267334         0  ...    6.872128  17.104698       1.0   \n",
       "3   566151.0    4081.257812         0  ...    6.979145  16.504091       0.0   \n",
       "4   566155.0    2192.473633         1  ...    6.118097  15.246189       0.0   \n",
       "\n",
       "   valor_corrupt  pcorrupt  dcorrupt  esample2        wm  winning_margin  \\\n",
       "0     672785.125  0.097313       1.0       1.0  0.030935       -0.030935   \n",
       "1          0.000  0.000000       0.0       1.0  0.172863        0.172863   \n",
       "2          0.000  0.000000       1.0       1.0  0.310956        0.310956   \n",
       "3          0.000  0.000000       0.0       1.0  0.391912        0.391912   \n",
       "4          0.000  0.000000       0.0       1.0  0.186155        0.186155   \n",
       "\n",
       "   party  \n",
       "0     16  \n",
       "1      3  \n",
       "2     18  \n",
       "3     18  \n",
       "4     14  \n",
       "\n",
       "[5 rows x 46 columns]"
      ]
     },
     "execution_count": 6,
     "metadata": {},
     "output_type": "execute_result"
    }
   ],
   "source": [
    "df = df[df['esample2']==1]\n",
    "df.head()"
   ]
  },
  {
   "cell_type": "markdown",
   "metadata": {},
   "source": [
    "The main outcome of interest is *pcorrupt*, namely, the share of audited resources found that involve corruption (a measure of misappropriation). The explanatory variable is *first*, a dummy variable indicating whether the mayor is in his first mandate. The regression of interest is the following: \n",
    "$$pcorrupt_i = \\beta_0 + \\beta_1 first_i + \\varepsilon_i$$"
   ]
  },
  {
   "cell_type": "code",
   "execution_count": 8,
   "metadata": {},
   "outputs": [
    {
     "data": {
      "text/html": [
       "<table class=\"simpletable\">\n",
       "<caption>OLS Regression Results</caption>\n",
       "<tr>\n",
       "  <th>Dep. Variable:</th>        <td>pcorrupt</td>     <th>  R-squared:         </th> <td>   0.008</td>\n",
       "</tr>\n",
       "<tr>\n",
       "  <th>Model:</th>                   <td>OLS</td>       <th>  Adj. R-squared:    </th> <td>   0.006</td>\n",
       "</tr>\n",
       "<tr>\n",
       "  <th>Method:</th>             <td>Least Squares</td>  <th>  F-statistic:       </th> <td>   4.017</td>\n",
       "</tr>\n",
       "<tr>\n",
       "  <th>Date:</th>             <td>Tue, 25 Oct 2022</td> <th>  Prob (F-statistic):</th>  <td>0.0456</td> \n",
       "</tr>\n",
       "<tr>\n",
       "  <th>Time:</th>                 <td>17:22:36</td>     <th>  Log-Likelihood:    </th> <td>  415.01</td>\n",
       "</tr>\n",
       "<tr>\n",
       "  <th>No. Observations:</th>      <td>   476</td>      <th>  AIC:               </th> <td>  -826.0</td>\n",
       "</tr>\n",
       "<tr>\n",
       "  <th>Df Residuals:</th>          <td>   474</td>      <th>  BIC:               </th> <td>  -817.7</td>\n",
       "</tr>\n",
       "<tr>\n",
       "  <th>Df Model:</th>              <td>     1</td>      <th>                     </th>     <td> </td>   \n",
       "</tr>\n",
       "<tr>\n",
       "  <th>Covariance Type:</th>      <td>nonrobust</td>    <th>                     </th>     <td> </td>   \n",
       "</tr>\n",
       "</table>\n",
       "<table class=\"simpletable\">\n",
       "<tr>\n",
       "      <td></td>         <th>coef</th>     <th>std err</th>      <th>t</th>      <th>P>|t|</th>  <th>[0.025</th>    <th>0.975]</th>  \n",
       "</tr>\n",
       "<tr>\n",
       "  <th>Intercept</th> <td>    0.0737</td> <td>    0.007</td> <td>   10.428</td> <td> 0.000</td> <td>    0.060</td> <td>    0.088</td>\n",
       "</tr>\n",
       "<tr>\n",
       "  <th>first</th>     <td>   -0.0188</td> <td>    0.009</td> <td>   -2.004</td> <td> 0.046</td> <td>   -0.037</td> <td>   -0.000</td>\n",
       "</tr>\n",
       "</table>\n",
       "<table class=\"simpletable\">\n",
       "<tr>\n",
       "  <th>Omnibus:</th>       <td>318.592</td> <th>  Durbin-Watson:     </th> <td>   1.866</td>\n",
       "</tr>\n",
       "<tr>\n",
       "  <th>Prob(Omnibus):</th> <td> 0.000</td>  <th>  Jarque-Bera (JB):  </th> <td>3161.573</td>\n",
       "</tr>\n",
       "<tr>\n",
       "  <th>Skew:</th>          <td> 2.874</td>  <th>  Prob(JB):          </th> <td>    0.00</td>\n",
       "</tr>\n",
       "<tr>\n",
       "  <th>Kurtosis:</th>      <td>14.242</td>  <th>  Cond. No.          </th> <td>    2.81</td>\n",
       "</tr>\n",
       "</table><br/><br/>Notes:<br/>[1] Standard Errors assume that the covariance matrix of the errors is correctly specified."
      ],
      "text/plain": [
       "<class 'statsmodels.iolib.summary.Summary'>\n",
       "\"\"\"\n",
       "                            OLS Regression Results                            \n",
       "==============================================================================\n",
       "Dep. Variable:               pcorrupt   R-squared:                       0.008\n",
       "Model:                            OLS   Adj. R-squared:                  0.006\n",
       "Method:                 Least Squares   F-statistic:                     4.017\n",
       "Date:                Tue, 25 Oct 2022   Prob (F-statistic):             0.0456\n",
       "Time:                        17:22:36   Log-Likelihood:                 415.01\n",
       "No. Observations:                 476   AIC:                            -826.0\n",
       "Df Residuals:                     474   BIC:                            -817.7\n",
       "Df Model:                           1                                         \n",
       "Covariance Type:            nonrobust                                         \n",
       "==============================================================================\n",
       "                 coef    std err          t      P>|t|      [0.025      0.975]\n",
       "------------------------------------------------------------------------------\n",
       "Intercept      0.0737      0.007     10.428      0.000       0.060       0.088\n",
       "first         -0.0188      0.009     -2.004      0.046      -0.037      -0.000\n",
       "==============================================================================\n",
       "Omnibus:                      318.592   Durbin-Watson:                   1.866\n",
       "Prob(Omnibus):                  0.000   Jarque-Bera (JB):             3161.573\n",
       "Skew:                           2.874   Prob(JB):                         0.00\n",
       "Kurtosis:                      14.242   Cond. No.                         2.81\n",
       "==============================================================================\n",
       "\n",
       "Notes:\n",
       "[1] Standard Errors assume that the covariance matrix of the errors is correctly specified.\n",
       "\"\"\""
      ]
     },
     "execution_count": 8,
     "metadata": {},
     "output_type": "execute_result"
    }
   ],
   "source": [
    "## run the regression above using robust standard errors\n",
    "import statsmodels.formula.api as smf \n",
    "from statsmodels.iolib.summary2 import summary_col\n",
    "\n",
    "\n",
    "ols1 = smf.ols(\"pcorrupt ~ first\", data = df).fit()\n",
    "ols1.summary()"
   ]
  },
  {
   "cell_type": "markdown",
   "metadata": {},
   "source": [
    "**What could be some sources of bias, namely, variables that act as confounder?**\n",
    "\n",
    "> Party affiliation could play a role if in that country some party are more likely to erode public institutions. \n",
    "> The proportion of people in favour of the candidate strongly influnce the chance of reelection and shoudl thus be take into account.  "
   ]
  },
  {
   "cell_type": "code",
   "execution_count": 13,
   "metadata": {},
   "outputs": [],
   "source": [
    "## run the regression above adding the variables that may act as a confounder\n",
    "ols2 = smf.ols(\"pcorrupt ~ first + p_cad_pref + party\", data = df).fit()"
   ]
  },
  {
   "cell_type": "code",
   "execution_count": 14,
   "metadata": {},
   "outputs": [
    {
     "data": {
      "text/html": [
       "<table class=\"simpletable\">\n",
       "<caption>OLS Regression Results</caption>\n",
       "<tr>\n",
       "  <th>Dep. Variable:</th>        <td>pcorrupt</td>     <th>  R-squared:         </th> <td>   0.068</td>\n",
       "</tr>\n",
       "<tr>\n",
       "  <th>Model:</th>                   <td>OLS</td>       <th>  Adj. R-squared:    </th> <td>   0.029</td>\n",
       "</tr>\n",
       "<tr>\n",
       "  <th>Method:</th>             <td>Least Squares</td>  <th>  F-statistic:       </th> <td>   1.747</td>\n",
       "</tr>\n",
       "<tr>\n",
       "  <th>Date:</th>             <td>Tue, 25 Oct 2022</td> <th>  Prob (F-statistic):</th>  <td>0.0265</td> \n",
       "</tr>\n",
       "<tr>\n",
       "  <th>Time:</th>                 <td>17:30:59</td>     <th>  Log-Likelihood:    </th> <td>  429.72</td>\n",
       "</tr>\n",
       "<tr>\n",
       "  <th>No. Observations:</th>      <td>   476</td>      <th>  AIC:               </th> <td>  -819.4</td>\n",
       "</tr>\n",
       "<tr>\n",
       "  <th>Df Residuals:</th>          <td>   456</td>      <th>  BIC:               </th> <td>  -736.1</td>\n",
       "</tr>\n",
       "<tr>\n",
       "  <th>Df Model:</th>              <td>    19</td>      <th>                     </th>     <td> </td>   \n",
       "</tr>\n",
       "<tr>\n",
       "  <th>Covariance Type:</th>      <td>nonrobust</td>    <th>                     </th>     <td> </td>   \n",
       "</tr>\n",
       "</table>\n",
       "<table class=\"simpletable\">\n",
       "<tr>\n",
       "       <td></td>          <th>coef</th>     <th>std err</th>      <th>t</th>      <th>P>|t|</th>  <th>[0.025</th>    <th>0.975]</th>  \n",
       "</tr>\n",
       "<tr>\n",
       "  <th>Intercept</th>   <td>    0.0622</td> <td>    0.024</td> <td>    2.637</td> <td> 0.009</td> <td>    0.016</td> <td>    0.109</td>\n",
       "</tr>\n",
       "<tr>\n",
       "  <th>party[T.10]</th> <td>    0.0034</td> <td>    0.034</td> <td>    0.101</td> <td> 0.920</td> <td>   -0.063</td> <td>    0.070</td>\n",
       "</tr>\n",
       "<tr>\n",
       "  <th>party[T.11]</th> <td>    0.0202</td> <td>    0.022</td> <td>    0.916</td> <td> 0.360</td> <td>   -0.023</td> <td>    0.064</td>\n",
       "</tr>\n",
       "<tr>\n",
       "  <th>party[T.12]</th> <td>    0.0744</td> <td>    0.045</td> <td>    1.639</td> <td> 0.102</td> <td>   -0.015</td> <td>    0.164</td>\n",
       "</tr>\n",
       "<tr>\n",
       "  <th>party[T.13]</th> <td>   -0.0064</td> <td>    0.061</td> <td>   -0.105</td> <td> 0.917</td> <td>   -0.127</td> <td>    0.114</td>\n",
       "</tr>\n",
       "<tr>\n",
       "  <th>party[T.14]</th> <td>   -0.0110</td> <td>    0.034</td> <td>   -0.325</td> <td> 0.745</td> <td>   -0.078</td> <td>    0.056</td>\n",
       "</tr>\n",
       "<tr>\n",
       "  <th>party[T.15]</th> <td>    0.2818</td> <td>    0.102</td> <td>    2.756</td> <td> 0.006</td> <td>    0.081</td> <td>    0.483</td>\n",
       "</tr>\n",
       "<tr>\n",
       "  <th>party[T.16]</th> <td>    0.0311</td> <td>    0.028</td> <td>    1.102</td> <td> 0.271</td> <td>   -0.024</td> <td>    0.087</td>\n",
       "</tr>\n",
       "<tr>\n",
       "  <th>party[T.17]</th> <td>    0.0407</td> <td>    0.102</td> <td>    0.398</td> <td> 0.691</td> <td>   -0.160</td> <td>    0.242</td>\n",
       "</tr>\n",
       "<tr>\n",
       "  <th>party[T.18]</th> <td>    0.0403</td> <td>    0.022</td> <td>    1.810</td> <td> 0.071</td> <td>   -0.003</td> <td>    0.084</td>\n",
       "</tr>\n",
       "<tr>\n",
       "  <th>party[T.2]</th>  <td>    0.0680</td> <td>    0.029</td> <td>    2.327</td> <td> 0.020</td> <td>    0.011</td> <td>    0.125</td>\n",
       "</tr>\n",
       "<tr>\n",
       "  <th>party[T.3]</th>  <td>    0.0274</td> <td>    0.022</td> <td>    1.262</td> <td> 0.208</td> <td>   -0.015</td> <td>    0.070</td>\n",
       "</tr>\n",
       "<tr>\n",
       "  <th>party[T.4]</th>  <td>    0.0398</td> <td>    0.024</td> <td>    1.664</td> <td> 0.097</td> <td>   -0.007</td> <td>    0.087</td>\n",
       "</tr>\n",
       "<tr>\n",
       "  <th>party[T.5]</th>  <td>    0.0329</td> <td>    0.035</td> <td>    0.945</td> <td> 0.345</td> <td>   -0.035</td> <td>    0.101</td>\n",
       "</tr>\n",
       "<tr>\n",
       "  <th>party[T.6]</th>  <td>    0.0465</td> <td>    0.102</td> <td>    0.456</td> <td> 0.649</td> <td>   -0.154</td> <td>    0.247</td>\n",
       "</tr>\n",
       "<tr>\n",
       "  <th>party[T.7]</th>  <td>    0.2296</td> <td>    0.102</td> <td>    2.248</td> <td> 0.025</td> <td>    0.029</td> <td>    0.430</td>\n",
       "</tr>\n",
       "<tr>\n",
       "  <th>party[T.8]</th>  <td>    0.0698</td> <td>    0.033</td> <td>    2.095</td> <td> 0.037</td> <td>    0.004</td> <td>    0.135</td>\n",
       "</tr>\n",
       "<tr>\n",
       "  <th>party[T.9]</th>  <td>    0.0475</td> <td>    0.054</td> <td>    0.880</td> <td> 0.379</td> <td>   -0.059</td> <td>    0.153</td>\n",
       "</tr>\n",
       "<tr>\n",
       "  <th>first</th>       <td>   -0.0248</td> <td>    0.010</td> <td>   -2.519</td> <td> 0.012</td> <td>   -0.044</td> <td>   -0.005</td>\n",
       "</tr>\n",
       "<tr>\n",
       "  <th>p_cad_pref</th>  <td>   -0.0532</td> <td>    0.032</td> <td>   -1.676</td> <td> 0.095</td> <td>   -0.116</td> <td>    0.009</td>\n",
       "</tr>\n",
       "</table>\n",
       "<table class=\"simpletable\">\n",
       "<tr>\n",
       "  <th>Omnibus:</th>       <td>325.202</td> <th>  Durbin-Watson:     </th> <td>   2.010</td>\n",
       "</tr>\n",
       "<tr>\n",
       "  <th>Prob(Omnibus):</th> <td> 0.000</td>  <th>  Jarque-Bera (JB):  </th> <td>3672.768</td>\n",
       "</tr>\n",
       "<tr>\n",
       "  <th>Skew:</th>          <td> 2.895</td>  <th>  Prob(JB):          </th> <td>    0.00</td>\n",
       "</tr>\n",
       "<tr>\n",
       "  <th>Kurtosis:</th>      <td>15.315</td>  <th>  Cond. No.          </th> <td>    31.3</td>\n",
       "</tr>\n",
       "</table><br/><br/>Notes:<br/>[1] Standard Errors assume that the covariance matrix of the errors is correctly specified."
      ],
      "text/plain": [
       "<class 'statsmodels.iolib.summary.Summary'>\n",
       "\"\"\"\n",
       "                            OLS Regression Results                            \n",
       "==============================================================================\n",
       "Dep. Variable:               pcorrupt   R-squared:                       0.068\n",
       "Model:                            OLS   Adj. R-squared:                  0.029\n",
       "Method:                 Least Squares   F-statistic:                     1.747\n",
       "Date:                Tue, 25 Oct 2022   Prob (F-statistic):             0.0265\n",
       "Time:                        17:30:59   Log-Likelihood:                 429.72\n",
       "No. Observations:                 476   AIC:                            -819.4\n",
       "Df Residuals:                     456   BIC:                            -736.1\n",
       "Df Model:                          19                                         \n",
       "Covariance Type:            nonrobust                                         \n",
       "===============================================================================\n",
       "                  coef    std err          t      P>|t|      [0.025      0.975]\n",
       "-------------------------------------------------------------------------------\n",
       "Intercept       0.0622      0.024      2.637      0.009       0.016       0.109\n",
       "party[T.10]     0.0034      0.034      0.101      0.920      -0.063       0.070\n",
       "party[T.11]     0.0202      0.022      0.916      0.360      -0.023       0.064\n",
       "party[T.12]     0.0744      0.045      1.639      0.102      -0.015       0.164\n",
       "party[T.13]    -0.0064      0.061     -0.105      0.917      -0.127       0.114\n",
       "party[T.14]    -0.0110      0.034     -0.325      0.745      -0.078       0.056\n",
       "party[T.15]     0.2818      0.102      2.756      0.006       0.081       0.483\n",
       "party[T.16]     0.0311      0.028      1.102      0.271      -0.024       0.087\n",
       "party[T.17]     0.0407      0.102      0.398      0.691      -0.160       0.242\n",
       "party[T.18]     0.0403      0.022      1.810      0.071      -0.003       0.084\n",
       "party[T.2]      0.0680      0.029      2.327      0.020       0.011       0.125\n",
       "party[T.3]      0.0274      0.022      1.262      0.208      -0.015       0.070\n",
       "party[T.4]      0.0398      0.024      1.664      0.097      -0.007       0.087\n",
       "party[T.5]      0.0329      0.035      0.945      0.345      -0.035       0.101\n",
       "party[T.6]      0.0465      0.102      0.456      0.649      -0.154       0.247\n",
       "party[T.7]      0.2296      0.102      2.248      0.025       0.029       0.430\n",
       "party[T.8]      0.0698      0.033      2.095      0.037       0.004       0.135\n",
       "party[T.9]      0.0475      0.054      0.880      0.379      -0.059       0.153\n",
       "first          -0.0248      0.010     -2.519      0.012      -0.044      -0.005\n",
       "p_cad_pref     -0.0532      0.032     -1.676      0.095      -0.116       0.009\n",
       "==============================================================================\n",
       "Omnibus:                      325.202   Durbin-Watson:                   2.010\n",
       "Prob(Omnibus):                  0.000   Jarque-Bera (JB):             3672.768\n",
       "Skew:                           2.895   Prob(JB):                         0.00\n",
       "Kurtosis:                      15.315   Cond. No.                         31.3\n",
       "==============================================================================\n",
       "\n",
       "Notes:\n",
       "[1] Standard Errors assume that the covariance matrix of the errors is correctly specified.\n",
       "\"\"\""
      ]
     },
     "execution_count": 14,
     "metadata": {},
     "output_type": "execute_result"
    }
   ],
   "source": [
    "## display the results \n",
    "ols2.summary()"
   ]
  },
  {
   "cell_type": "markdown",
   "metadata": {},
   "source": [
    "**In your opinion, are there any additional sources of bias that threatens the causal interpretation of the results?**"
   ]
  },
  {
   "cell_type": "markdown",
   "metadata": {},
   "source": [
    "To make sure that this is not the case we will use a regression discontinuity design where the running variable is the margin by which the incumbent won or lost in the previous election. Namely, we compare municipalities where incumbents won or lost by a narrow margin. This comparison provides quasi-random assignment of first-term and second-term mayors across these competitive elections."
   ]
  },
  {
   "cell_type": "code",
   "execution_count": 17,
   "metadata": {
    "scrolled": true
   },
   "outputs": [
    {
     "data": {
      "image/png": "[encoded data removed]",
      "text/plain": [
       "<Figure size 640x480 with 1 Axes>"
      ]
     },
     "metadata": {},
     "output_type": "display_data"
    },
    {
     "name": "stdout",
     "output_type": "stream",
     "text": [
      "\n",
      "Call: rdplot\n",
      "Number of Observations:                   328\n",
      "Kernel:                               Uniform\n",
      "Polynomial Order Est. (p):                  2\n",
      "\n",
      "                                Left      Right\n",
      "------------------------------------------------\n",
      "Number of Observations           126        202\n",
      "Number of Effective Obs          126        202\n",
      "Bandwith poly. fit (h)         0.671      0.918\n",
      "Number of bins scale               1          1\n",
      "Bins Selected                     30         30\n",
      "Average Bin Length             0.025      0.031\n",
      "Median Bin Length              0.022      0.031\n",
      "IMSE-optimal bins                5.0        3.0\n",
      "Mimicking Variance bins         15.0       11.0\n",
      "\n",
      "Relative to IMSE-optimal:\n",
      "Implied scale                    6.0       10.0\n",
      "WIMSE variance weight          0.005      0.001\n",
      "WIMSE bias weight              0.995      0.999\n"
     ]
    },
    {
     "data": {
      "text/plain": []
     },
     "execution_count": 17,
     "metadata": {},
     "output_type": "execute_result"
    }
   ],
   "source": [
    "## plot the RD plot using as running variable the variable winning_margin\n",
    "## use a second order polynomial and 15 bins at each side\n",
    "\n",
    "margin = df.dropna(subset=['winning_margin']).winning_margin\n",
    "corruption = df.dropna(subset=['winning_margin']).pcorrupt\n",
    "\n",
    "\n",
    "rdplot(y=corruption, x=margin, nbins=2*15, masspoints='adjust', p=2,\n",
    "         title=\"Corruption and re-election\", \n",
    "         y_label=\"p_corrupt\",\n",
    "         x_label=\" \")"
   ]
  },
  {
   "cell_type": "code",
   "execution_count": 43,
   "metadata": {},
   "outputs": [
    {
     "data": {
      "image/png": "[encoded data removed]",
      "text/plain": [
       "<Figure size 640x480 with 1 Axes>"
      ]
     },
     "metadata": {},
     "output_type": "display_data"
    },
    {
     "name": "stdout",
     "output_type": "stream",
     "text": [
      "\n",
      "Call: rdplot\n",
      "Number of Observations:                   328\n",
      "Kernel:                               Uniform\n",
      "Polynomial Order Est. (p):                  3\n",
      "\n",
      "                                Left      Right\n",
      "------------------------------------------------\n",
      "Number of Observations           126        202\n",
      "Number of Effective Obs          126        202\n",
      "Bandwith poly. fit (h)         0.671      0.918\n",
      "Number of bins scale               1          1\n",
      "Bins Selected                     30         30\n",
      "Average Bin Length             0.025      0.031\n",
      "Median Bin Length              0.022      0.031\n",
      "IMSE-optimal bins                6.0        7.0\n",
      "Mimicking Variance bins          8.0       15.0\n",
      "\n",
      "Relative to IMSE-optimal:\n",
      "Implied scale                    5.0      4.286\n",
      "WIMSE variance weight          0.008      0.013\n",
      "WIMSE bias weight              0.992      0.987\n"
     ]
    },
    {
     "data": {
      "text/plain": []
     },
     "execution_count": 43,
     "metadata": {},
     "output_type": "execute_result"
    }
   ],
   "source": [
    "## run the RD regression using the same dependent and explanatory variable as before\n",
    "## include 4th degree polynomial and the covariates that you included above\n",
    "cov_names = [\"party\", \"p_cad_pref\"]\n",
    "\n",
    "#covs = [df[df.dropna(subset=['winning_margin'])['first'] == 1].party, df[df.dropna(subset=['winning_margin'])['first'] == 1].p_cad_pref]\n",
    "#covs = pd.concat([df.dropna(subset=['winning_margin'])[[\"party\"]]], axis=1)\n",
    "covs = pd.concat([df.dropna(subset=['winning_margin'])[[\"p_cad_pref\"]]], axis=1)\n",
    "\n",
    "rdplot(y=covs, x=margin, nbins=30, masspoints='adjust', p=3,\n",
    "         title=\" \", \n",
    "         y_label=cov_names[0],\n",
    "         x_label=\"Running Variable\")\n",
    "\n",
    "\n",
    "   "
   ]
  },
  {
   "cell_type": "markdown",
   "metadata": {},
   "source": [
    "**Interpret the coefficient**\n",
    "\n",
    "> We can see that when accounting for covariates, the increase in corruption for re-elected politician is higher (even more if we discard the outlier datapoint on the left side)."
   ]
  },
  {
   "cell_type": "markdown",
   "metadata": {},
   "source": [
    "## Difference-in-Differences"
   ]
  },
  {
   "cell_type": "markdown",
   "metadata": {},
   "source": [
    "In this part you will use data from Argentina to investigate the causal effect of police on crime. Following the paper by [Di Tella and Schargrodsky (2004)](https://www.aeaweb.org/articles?id=10.1257/000282804322970733), you will exploit the follow-up of a terrorist attack tto the Jewish center in Buenos Aires in July 1994, after which all Jewish institution received police protection. This event induced a geographical allocation of police forces orthogonal to a crime regression allowing to isolate the causal effect of having more police in a neighborhood on a proxy for crime (car thefts), through a difference-in-differences analysis. "
   ]
  },
  {
   "cell_type": "code",
   "execution_count": null,
   "metadata": {
    "scrolled": false
   },
   "outputs": [],
   "source": [
    "df = pd.read_stata('data/HW04_data_DiD.dta')\n",
    "df_labels = pd.read_stata('data/HW04_data_DiD.dta', iterator=True).variable_labels()\n",
    "df_labels"
   ]
  },
  {
   "cell_type": "code",
   "execution_count": null,
   "metadata": {},
   "outputs": [],
   "source": [
    "df.head()"
   ]
  },
  {
   "cell_type": "markdown",
   "metadata": {},
   "source": [
    "The main outcome of interest is *totrob*, the total number of car thefts (proxy for criminal activity). The main explanatory variable is a dummy variable indicating whether the there is a Jewish institution in the neighborhood **and** the observation is after July (*inst1p*). The main regression is the following: \n",
    "\n",
    "$$totrob_i = \\beta_0 + \\beta_1 inst1p_i + \\varepsilon_i$$"
   ]
  },
  {
   "cell_type": "code",
   "execution_count": null,
   "metadata": {},
   "outputs": [],
   "source": [
    "## Run the regression above with robust standard errors\n",
    "import statsmodels.formula.api as smf\n",
    "\n",
    "ols1 = ..."
   ]
  },
  {
   "cell_type": "markdown",
   "metadata": {},
   "source": [
    "**Why this estimate CANNOT be interpreted as causal?**"
   ]
  },
  {
   "cell_type": "code",
   "execution_count": null,
   "metadata": {},
   "outputs": [],
   "source": [
    "## Plot the time series of car thefts separately for blocks with and without a jewish institutions\n",
    "## Add a vertical line indicating the terrorist attack \n",
    "import seaborn as sns\n",
    "import matplotlib.pyplot as plt\n"
   ]
  },
  {
   "cell_type": "markdown",
   "metadata": {},
   "source": [
    "**Does the parallel trend assumption hold?**"
   ]
  },
  {
   "cell_type": "code",
   "execution_count": null,
   "metadata": {},
   "outputs": [],
   "source": [
    "##Run the regression above including month and block fixed effects\n",
    "from linearmodels import PanelOLS\n",
    "did = ..."
   ]
  },
  {
   "cell_type": "code",
   "execution_count": null,
   "metadata": {},
   "outputs": [],
   "source": [
    "##show the results from both regressions"
   ]
  },
  {
   "cell_type": "markdown",
   "metadata": {},
   "source": [
    "**Compare and interpret the results**"
   ]
  }
 ],
 "metadata": {
  "kernelspec": {
   "display_name": "Python 3.9.13 ('brj')",
   "language": "python",
   "name": "python3"
  },
  "language_info": {
   "codemirror_mode": {
    "name": "ipython",
    "version": 3
   },
   "file_extension": ".py",
   "mimetype": "text/x-python",
   "name": "python",
   "nbconvert_exporter": "python",
   "pygments_lexer": "ipython3",
   "version": "3.9.13 | packaged by conda-forge | (main, May 27 2022, 17:01:00) \n[Clang 13.0.1 ]"
  },
  "vscode": {
   "interpreter": {
    "hash": "dfffd512b5389e9d3dcf7625ef773f2ceb18044b61b4057c9b3522de66270c4b"
   }
  }
 },
 "nbformat": 4,
 "nbformat_minor": 5
}
